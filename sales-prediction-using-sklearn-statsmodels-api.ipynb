{
 "cells": [
  {
   "cell_type": "code",
   "execution_count": 1,
   "id": "b7d471c7",
   "metadata": {
    "_cell_guid": "b1076dfc-b9ad-4769-8c92-a6c4dae69d19",
    "_uuid": "8f2839f25d086af736a60e9eeb907d3b93b6e0e5",
    "execution": {
     "iopub.execute_input": "2022-05-06T09:43:19.091920Z",
     "iopub.status.busy": "2022-05-06T09:43:19.091183Z",
     "iopub.status.idle": "2022-05-06T09:43:21.536462Z",
     "shell.execute_reply": "2022-05-06T09:43:21.534833Z"
    },
    "papermill": {
     "duration": 2.524664,
     "end_time": "2022-05-06T09:43:21.538902",
     "exception": false,
     "start_time": "2022-05-06T09:43:19.014238",
     "status": "completed"
    },
    "tags": []
   },
   "outputs": [
    {
     "name": "stdout",
     "output_type": "stream",
     "text": [
      "/kaggle/input/competitive-data-science-predict-future-sales/items.csv\n",
      "/kaggle/input/competitive-data-science-predict-future-sales/sample_submission.csv\n",
      "/kaggle/input/competitive-data-science-predict-future-sales/item_categories.csv\n",
      "/kaggle/input/competitive-data-science-predict-future-sales/sales_train.csv\n",
      "/kaggle/input/competitive-data-science-predict-future-sales/shops.csv\n",
      "/kaggle/input/competitive-data-science-predict-future-sales/test.csv\n"
     ]
    }
   ],
   "source": [
    "import numpy as np \n",
    "import pandas as pd \n",
    "import matplotlib.pyplot as plt\n",
    "import seaborn as sns\n",
    "from scipy.stats import zscore\n",
    "from statsmodels.graphics.regressionplots import influence_plot\n",
    "from sklearn.model_selection import train_test_split\n",
    "from sklearn.feature_selection import mutual_info_regression\n",
    "from sklearn.linear_model import LinearRegression\n",
    "from sklearn.metrics import r2_score, mean_absolute_error, mean_squared_error\n",
    "import statsmodels.api as sm\n",
    "from statsmodels.sandbox.regression.predstd import wls_prediction_std\n",
    "from xgboost import XGBRegressor\n",
    "%matplotlib inline\n",
    "\n",
    "\n",
    "import os\n",
    "for dirname, _, filenames in os.walk('/kaggle/input'):\n",
    "    for filename in filenames:\n",
    "        print(os.path.join(dirname, filename))"
   ]
  },
  {
   "cell_type": "code",
   "execution_count": 2,
   "id": "0e89b39e",
   "metadata": {
    "execution": {
     "iopub.execute_input": "2022-05-06T09:43:21.686891Z",
     "iopub.status.busy": "2022-05-06T09:43:21.686025Z",
     "iopub.status.idle": "2022-05-06T09:43:24.697294Z",
     "shell.execute_reply": "2022-05-06T09:43:24.696299Z"
    },
    "papermill": {
     "duration": 3.086709,
     "end_time": "2022-05-06T09:43:24.700143",
     "exception": false,
     "start_time": "2022-05-06T09:43:21.613434",
     "status": "completed"
    },
    "tags": []
   },
   "outputs": [
    {
     "data": {
      "text/html": [
       "<div>\n",
       "<style scoped>\n",
       "    .dataframe tbody tr th:only-of-type {\n",
       "        vertical-align: middle;\n",
       "    }\n",
       "\n",
       "    .dataframe tbody tr th {\n",
       "        vertical-align: top;\n",
       "    }\n",
       "\n",
       "    .dataframe thead th {\n",
       "        text-align: right;\n",
       "    }\n",
       "</style>\n",
       "<table border=\"1\" class=\"dataframe\">\n",
       "  <thead>\n",
       "    <tr style=\"text-align: right;\">\n",
       "      <th></th>\n",
       "      <th>date</th>\n",
       "      <th>date_block_num</th>\n",
       "      <th>shop_id</th>\n",
       "      <th>item_id</th>\n",
       "      <th>item_price</th>\n",
       "      <th>item_cnt_day</th>\n",
       "    </tr>\n",
       "  </thead>\n",
       "  <tbody>\n",
       "    <tr>\n",
       "      <th>0</th>\n",
       "      <td>02.01.2013</td>\n",
       "      <td>0</td>\n",
       "      <td>59</td>\n",
       "      <td>22154</td>\n",
       "      <td>999.00</td>\n",
       "      <td>1.0</td>\n",
       "    </tr>\n",
       "    <tr>\n",
       "      <th>1</th>\n",
       "      <td>03.01.2013</td>\n",
       "      <td>0</td>\n",
       "      <td>25</td>\n",
       "      <td>2552</td>\n",
       "      <td>899.00</td>\n",
       "      <td>1.0</td>\n",
       "    </tr>\n",
       "    <tr>\n",
       "      <th>2</th>\n",
       "      <td>05.01.2013</td>\n",
       "      <td>0</td>\n",
       "      <td>25</td>\n",
       "      <td>2552</td>\n",
       "      <td>899.00</td>\n",
       "      <td>-1.0</td>\n",
       "    </tr>\n",
       "    <tr>\n",
       "      <th>3</th>\n",
       "      <td>06.01.2013</td>\n",
       "      <td>0</td>\n",
       "      <td>25</td>\n",
       "      <td>2554</td>\n",
       "      <td>1709.05</td>\n",
       "      <td>1.0</td>\n",
       "    </tr>\n",
       "    <tr>\n",
       "      <th>4</th>\n",
       "      <td>15.01.2013</td>\n",
       "      <td>0</td>\n",
       "      <td>25</td>\n",
       "      <td>2555</td>\n",
       "      <td>1099.00</td>\n",
       "      <td>1.0</td>\n",
       "    </tr>\n",
       "  </tbody>\n",
       "</table>\n",
       "</div>"
      ],
      "text/plain": [
       "         date  date_block_num  shop_id  item_id  item_price  item_cnt_day\n",
       "0  02.01.2013               0       59    22154      999.00           1.0\n",
       "1  03.01.2013               0       25     2552      899.00           1.0\n",
       "2  05.01.2013               0       25     2552      899.00          -1.0\n",
       "3  06.01.2013               0       25     2554     1709.05           1.0\n",
       "4  15.01.2013               0       25     2555     1099.00           1.0"
      ]
     },
     "execution_count": 2,
     "metadata": {},
     "output_type": "execute_result"
    }
   ],
   "source": [
    "df_sales = pd.read_csv('/kaggle/input/competitive-data-science-predict-future-sales/sales_train.csv')\n",
    "df_items = pd.read_csv('/kaggle/input/competitive-data-science-predict-future-sales/items.csv')\n",
    "df_shops = pd.read_csv('/kaggle/input/competitive-data-science-predict-future-sales/shops.csv')\n",
    "df_test = pd.read_csv('/kaggle/input/competitive-data-science-predict-future-sales/test.csv')\n",
    "df_sub = pd.read_csv('/kaggle/input/competitive-data-science-predict-future-sales/sample_submission.csv')\n",
    "\n",
    "\n",
    "def df_head(df):\n",
    "    return df.head()\n",
    "\n",
    "    \n",
    "df_head(df_sales)"
   ]
  },
  {
   "cell_type": "code",
   "execution_count": 3,
   "id": "cb6ff3a1",
   "metadata": {
    "execution": {
     "iopub.execute_input": "2022-05-06T09:43:24.858138Z",
     "iopub.status.busy": "2022-05-06T09:43:24.857115Z",
     "iopub.status.idle": "2022-05-06T09:43:24.869937Z",
     "shell.execute_reply": "2022-05-06T09:43:24.868889Z"
    },
    "papermill": {
     "duration": 0.093756,
     "end_time": "2022-05-06T09:43:24.872663",
     "exception": false,
     "start_time": "2022-05-06T09:43:24.778907",
     "status": "completed"
    },
    "tags": []
   },
   "outputs": [
    {
     "data": {
      "text/html": [
       "<div>\n",
       "<style scoped>\n",
       "    .dataframe tbody tr th:only-of-type {\n",
       "        vertical-align: middle;\n",
       "    }\n",
       "\n",
       "    .dataframe tbody tr th {\n",
       "        vertical-align: top;\n",
       "    }\n",
       "\n",
       "    .dataframe thead th {\n",
       "        text-align: right;\n",
       "    }\n",
       "</style>\n",
       "<table border=\"1\" class=\"dataframe\">\n",
       "  <thead>\n",
       "    <tr style=\"text-align: right;\">\n",
       "      <th></th>\n",
       "      <th>ID</th>\n",
       "      <th>item_cnt_month</th>\n",
       "    </tr>\n",
       "  </thead>\n",
       "  <tbody>\n",
       "    <tr>\n",
       "      <th>0</th>\n",
       "      <td>0</td>\n",
       "      <td>0.5</td>\n",
       "    </tr>\n",
       "    <tr>\n",
       "      <th>1</th>\n",
       "      <td>1</td>\n",
       "      <td>0.5</td>\n",
       "    </tr>\n",
       "    <tr>\n",
       "      <th>2</th>\n",
       "      <td>2</td>\n",
       "      <td>0.5</td>\n",
       "    </tr>\n",
       "    <tr>\n",
       "      <th>3</th>\n",
       "      <td>3</td>\n",
       "      <td>0.5</td>\n",
       "    </tr>\n",
       "    <tr>\n",
       "      <th>4</th>\n",
       "      <td>4</td>\n",
       "      <td>0.5</td>\n",
       "    </tr>\n",
       "  </tbody>\n",
       "</table>\n",
       "</div>"
      ],
      "text/plain": [
       "   ID  item_cnt_month\n",
       "0   0             0.5\n",
       "1   1             0.5\n",
       "2   2             0.5\n",
       "3   3             0.5\n",
       "4   4             0.5"
      ]
     },
     "execution_count": 3,
     "metadata": {},
     "output_type": "execute_result"
    }
   ],
   "source": [
    "df_head(df_sub)"
   ]
  },
  {
   "cell_type": "code",
   "execution_count": 4,
   "id": "0377d321",
   "metadata": {
    "execution": {
     "iopub.execute_input": "2022-05-06T09:43:25.025271Z",
     "iopub.status.busy": "2022-05-06T09:43:25.024620Z",
     "iopub.status.idle": "2022-05-06T09:43:25.034721Z",
     "shell.execute_reply": "2022-05-06T09:43:25.034089Z"
    },
    "papermill": {
     "duration": 0.090443,
     "end_time": "2022-05-06T09:43:25.037138",
     "exception": false,
     "start_time": "2022-05-06T09:43:24.946695",
     "status": "completed"
    },
    "tags": []
   },
   "outputs": [
    {
     "data": {
      "text/html": [
       "<div>\n",
       "<style scoped>\n",
       "    .dataframe tbody tr th:only-of-type {\n",
       "        vertical-align: middle;\n",
       "    }\n",
       "\n",
       "    .dataframe tbody tr th {\n",
       "        vertical-align: top;\n",
       "    }\n",
       "\n",
       "    .dataframe thead th {\n",
       "        text-align: right;\n",
       "    }\n",
       "</style>\n",
       "<table border=\"1\" class=\"dataframe\">\n",
       "  <thead>\n",
       "    <tr style=\"text-align: right;\">\n",
       "      <th></th>\n",
       "      <th>item_name</th>\n",
       "      <th>item_id</th>\n",
       "      <th>item_category_id</th>\n",
       "    </tr>\n",
       "  </thead>\n",
       "  <tbody>\n",
       "    <tr>\n",
       "      <th>0</th>\n",
       "      <td>! ВО ВЛАСТИ НАВАЖДЕНИЯ (ПЛАСТ.)         D</td>\n",
       "      <td>0</td>\n",
       "      <td>40</td>\n",
       "    </tr>\n",
       "    <tr>\n",
       "      <th>1</th>\n",
       "      <td>!ABBYY FineReader 12 Professional Edition Full...</td>\n",
       "      <td>1</td>\n",
       "      <td>76</td>\n",
       "    </tr>\n",
       "    <tr>\n",
       "      <th>2</th>\n",
       "      <td>***В ЛУЧАХ СЛАВЫ   (UNV)                    D</td>\n",
       "      <td>2</td>\n",
       "      <td>40</td>\n",
       "    </tr>\n",
       "    <tr>\n",
       "      <th>3</th>\n",
       "      <td>***ГОЛУБАЯ ВОЛНА  (Univ)                      D</td>\n",
       "      <td>3</td>\n",
       "      <td>40</td>\n",
       "    </tr>\n",
       "    <tr>\n",
       "      <th>4</th>\n",
       "      <td>***КОРОБКА (СТЕКЛО)                       D</td>\n",
       "      <td>4</td>\n",
       "      <td>40</td>\n",
       "    </tr>\n",
       "  </tbody>\n",
       "</table>\n",
       "</div>"
      ],
      "text/plain": [
       "                                           item_name  item_id  \\\n",
       "0          ! ВО ВЛАСТИ НАВАЖДЕНИЯ (ПЛАСТ.)         D        0   \n",
       "1  !ABBYY FineReader 12 Professional Edition Full...        1   \n",
       "2      ***В ЛУЧАХ СЛАВЫ   (UNV)                    D        2   \n",
       "3    ***ГОЛУБАЯ ВОЛНА  (Univ)                      D        3   \n",
       "4        ***КОРОБКА (СТЕКЛО)                       D        4   \n",
       "\n",
       "   item_category_id  \n",
       "0                40  \n",
       "1                76  \n",
       "2                40  \n",
       "3                40  \n",
       "4                40  "
      ]
     },
     "execution_count": 4,
     "metadata": {},
     "output_type": "execute_result"
    }
   ],
   "source": [
    "df_head(df_items)"
   ]
  },
  {
   "cell_type": "code",
   "execution_count": 5,
   "id": "fa9b4761",
   "metadata": {
    "execution": {
     "iopub.execute_input": "2022-05-06T09:43:25.194149Z",
     "iopub.status.busy": "2022-05-06T09:43:25.193584Z",
     "iopub.status.idle": "2022-05-06T09:43:25.202451Z",
     "shell.execute_reply": "2022-05-06T09:43:25.201611Z"
    },
    "papermill": {
     "duration": 0.089766,
     "end_time": "2022-05-06T09:43:25.204457",
     "exception": false,
     "start_time": "2022-05-06T09:43:25.114691",
     "status": "completed"
    },
    "tags": []
   },
   "outputs": [
    {
     "data": {
      "text/html": [
       "<div>\n",
       "<style scoped>\n",
       "    .dataframe tbody tr th:only-of-type {\n",
       "        vertical-align: middle;\n",
       "    }\n",
       "\n",
       "    .dataframe tbody tr th {\n",
       "        vertical-align: top;\n",
       "    }\n",
       "\n",
       "    .dataframe thead th {\n",
       "        text-align: right;\n",
       "    }\n",
       "</style>\n",
       "<table border=\"1\" class=\"dataframe\">\n",
       "  <thead>\n",
       "    <tr style=\"text-align: right;\">\n",
       "      <th></th>\n",
       "      <th>shop_name</th>\n",
       "      <th>shop_id</th>\n",
       "    </tr>\n",
       "  </thead>\n",
       "  <tbody>\n",
       "    <tr>\n",
       "      <th>0</th>\n",
       "      <td>!Якутск Орджоникидзе, 56 фран</td>\n",
       "      <td>0</td>\n",
       "    </tr>\n",
       "    <tr>\n",
       "      <th>1</th>\n",
       "      <td>!Якутск ТЦ \"Центральный\" фран</td>\n",
       "      <td>1</td>\n",
       "    </tr>\n",
       "    <tr>\n",
       "      <th>2</th>\n",
       "      <td>Адыгея ТЦ \"Мега\"</td>\n",
       "      <td>2</td>\n",
       "    </tr>\n",
       "    <tr>\n",
       "      <th>3</th>\n",
       "      <td>Балашиха ТРК \"Октябрь-Киномир\"</td>\n",
       "      <td>3</td>\n",
       "    </tr>\n",
       "    <tr>\n",
       "      <th>4</th>\n",
       "      <td>Волжский ТЦ \"Волга Молл\"</td>\n",
       "      <td>4</td>\n",
       "    </tr>\n",
       "  </tbody>\n",
       "</table>\n",
       "</div>"
      ],
      "text/plain": [
       "                        shop_name  shop_id\n",
       "0   !Якутск Орджоникидзе, 56 фран        0\n",
       "1   !Якутск ТЦ \"Центральный\" фран        1\n",
       "2                Адыгея ТЦ \"Мега\"        2\n",
       "3  Балашиха ТРК \"Октябрь-Киномир\"        3\n",
       "4        Волжский ТЦ \"Волга Молл\"        4"
      ]
     },
     "execution_count": 5,
     "metadata": {},
     "output_type": "execute_result"
    }
   ],
   "source": [
    "df_head(df_shops)"
   ]
  },
  {
   "cell_type": "code",
   "execution_count": 6,
   "id": "bf01e5b6",
   "metadata": {
    "execution": {
     "iopub.execute_input": "2022-05-06T09:43:25.357657Z",
     "iopub.status.busy": "2022-05-06T09:43:25.357109Z",
     "iopub.status.idle": "2022-05-06T09:43:25.365768Z",
     "shell.execute_reply": "2022-05-06T09:43:25.365090Z"
    },
    "papermill": {
     "duration": 0.088769,
     "end_time": "2022-05-06T09:43:25.367889",
     "exception": false,
     "start_time": "2022-05-06T09:43:25.279120",
     "status": "completed"
    },
    "tags": []
   },
   "outputs": [
    {
     "data": {
      "text/html": [
       "<div>\n",
       "<style scoped>\n",
       "    .dataframe tbody tr th:only-of-type {\n",
       "        vertical-align: middle;\n",
       "    }\n",
       "\n",
       "    .dataframe tbody tr th {\n",
       "        vertical-align: top;\n",
       "    }\n",
       "\n",
       "    .dataframe thead th {\n",
       "        text-align: right;\n",
       "    }\n",
       "</style>\n",
       "<table border=\"1\" class=\"dataframe\">\n",
       "  <thead>\n",
       "    <tr style=\"text-align: right;\">\n",
       "      <th></th>\n",
       "      <th>ID</th>\n",
       "      <th>shop_id</th>\n",
       "      <th>item_id</th>\n",
       "    </tr>\n",
       "  </thead>\n",
       "  <tbody>\n",
       "    <tr>\n",
       "      <th>0</th>\n",
       "      <td>0</td>\n",
       "      <td>5</td>\n",
       "      <td>5037</td>\n",
       "    </tr>\n",
       "    <tr>\n",
       "      <th>1</th>\n",
       "      <td>1</td>\n",
       "      <td>5</td>\n",
       "      <td>5320</td>\n",
       "    </tr>\n",
       "    <tr>\n",
       "      <th>2</th>\n",
       "      <td>2</td>\n",
       "      <td>5</td>\n",
       "      <td>5233</td>\n",
       "    </tr>\n",
       "    <tr>\n",
       "      <th>3</th>\n",
       "      <td>3</td>\n",
       "      <td>5</td>\n",
       "      <td>5232</td>\n",
       "    </tr>\n",
       "    <tr>\n",
       "      <th>4</th>\n",
       "      <td>4</td>\n",
       "      <td>5</td>\n",
       "      <td>5268</td>\n",
       "    </tr>\n",
       "  </tbody>\n",
       "</table>\n",
       "</div>"
      ],
      "text/plain": [
       "   ID  shop_id  item_id\n",
       "0   0        5     5037\n",
       "1   1        5     5320\n",
       "2   2        5     5233\n",
       "3   3        5     5232\n",
       "4   4        5     5268"
      ]
     },
     "execution_count": 6,
     "metadata": {},
     "output_type": "execute_result"
    }
   ],
   "source": [
    "df_head(df_test)"
   ]
  },
  {
   "cell_type": "markdown",
   "id": "29793919",
   "metadata": {
    "papermill": {
     "duration": 0.077547,
     "end_time": "2022-05-06T09:43:25.522625",
     "exception": false,
     "start_time": "2022-05-06T09:43:25.445078",
     "status": "completed"
    },
    "tags": []
   },
   "source": [
    "# Descriptive and exploratory data analysis"
   ]
  },
  {
   "cell_type": "code",
   "execution_count": 7,
   "id": "e43e9e1a",
   "metadata": {
    "execution": {
     "iopub.execute_input": "2022-05-06T09:43:25.675597Z",
     "iopub.status.busy": "2022-05-06T09:43:25.675070Z",
     "iopub.status.idle": "2022-05-06T09:43:26.277098Z",
     "shell.execute_reply": "2022-05-06T09:43:26.275794Z"
    },
    "papermill": {
     "duration": 0.682345,
     "end_time": "2022-05-06T09:43:26.279693",
     "exception": false,
     "start_time": "2022-05-06T09:43:25.597348",
     "status": "completed"
    },
    "tags": []
   },
   "outputs": [
    {
     "data": {
      "text/html": [
       "<div>\n",
       "<style scoped>\n",
       "    .dataframe tbody tr th:only-of-type {\n",
       "        vertical-align: middle;\n",
       "    }\n",
       "\n",
       "    .dataframe tbody tr th {\n",
       "        vertical-align: top;\n",
       "    }\n",
       "\n",
       "    .dataframe thead th {\n",
       "        text-align: right;\n",
       "    }\n",
       "</style>\n",
       "<table border=\"1\" class=\"dataframe\">\n",
       "  <thead>\n",
       "    <tr style=\"text-align: right;\">\n",
       "      <th></th>\n",
       "      <th>count</th>\n",
       "      <th>mean</th>\n",
       "      <th>std</th>\n",
       "      <th>min</th>\n",
       "      <th>25%</th>\n",
       "      <th>50%</th>\n",
       "      <th>75%</th>\n",
       "      <th>max</th>\n",
       "    </tr>\n",
       "  </thead>\n",
       "  <tbody>\n",
       "    <tr>\n",
       "      <th>date_block_num</th>\n",
       "      <td>2935849.0</td>\n",
       "      <td>14.569911</td>\n",
       "      <td>9.422988</td>\n",
       "      <td>0.0</td>\n",
       "      <td>7.0</td>\n",
       "      <td>14.0</td>\n",
       "      <td>23.0</td>\n",
       "      <td>33.0</td>\n",
       "    </tr>\n",
       "    <tr>\n",
       "      <th>shop_id</th>\n",
       "      <td>2935849.0</td>\n",
       "      <td>33.001728</td>\n",
       "      <td>16.226973</td>\n",
       "      <td>0.0</td>\n",
       "      <td>22.0</td>\n",
       "      <td>31.0</td>\n",
       "      <td>47.0</td>\n",
       "      <td>59.0</td>\n",
       "    </tr>\n",
       "    <tr>\n",
       "      <th>item_id</th>\n",
       "      <td>2935849.0</td>\n",
       "      <td>10197.227057</td>\n",
       "      <td>6324.297354</td>\n",
       "      <td>0.0</td>\n",
       "      <td>4476.0</td>\n",
       "      <td>9343.0</td>\n",
       "      <td>15684.0</td>\n",
       "      <td>22169.0</td>\n",
       "    </tr>\n",
       "    <tr>\n",
       "      <th>item_price</th>\n",
       "      <td>2935849.0</td>\n",
       "      <td>890.853233</td>\n",
       "      <td>1729.799631</td>\n",
       "      <td>-1.0</td>\n",
       "      <td>249.0</td>\n",
       "      <td>399.0</td>\n",
       "      <td>999.0</td>\n",
       "      <td>307980.0</td>\n",
       "    </tr>\n",
       "    <tr>\n",
       "      <th>item_cnt_day</th>\n",
       "      <td>2935849.0</td>\n",
       "      <td>1.242641</td>\n",
       "      <td>2.618834</td>\n",
       "      <td>-22.0</td>\n",
       "      <td>1.0</td>\n",
       "      <td>1.0</td>\n",
       "      <td>1.0</td>\n",
       "      <td>2169.0</td>\n",
       "    </tr>\n",
       "  </tbody>\n",
       "</table>\n",
       "</div>"
      ],
      "text/plain": [
       "                    count          mean          std   min     25%     50%  \\\n",
       "date_block_num  2935849.0     14.569911     9.422988   0.0     7.0    14.0   \n",
       "shop_id         2935849.0     33.001728    16.226973   0.0    22.0    31.0   \n",
       "item_id         2935849.0  10197.227057  6324.297354   0.0  4476.0  9343.0   \n",
       "item_price      2935849.0    890.853233  1729.799631  -1.0   249.0   399.0   \n",
       "item_cnt_day    2935849.0      1.242641     2.618834 -22.0     1.0     1.0   \n",
       "\n",
       "                    75%       max  \n",
       "date_block_num     23.0      33.0  \n",
       "shop_id            47.0      59.0  \n",
       "item_id         15684.0   22169.0  \n",
       "item_price        999.0  307980.0  \n",
       "item_cnt_day        1.0    2169.0  "
      ]
     },
     "execution_count": 7,
     "metadata": {},
     "output_type": "execute_result"
    }
   ],
   "source": [
    "df_sales.describe().T"
   ]
  },
  {
   "cell_type": "code",
   "execution_count": 8,
   "id": "8aa31e42",
   "metadata": {
    "execution": {
     "iopub.execute_input": "2022-05-06T09:43:26.434256Z",
     "iopub.status.busy": "2022-05-06T09:43:26.433879Z",
     "iopub.status.idle": "2022-05-06T09:43:26.472903Z",
     "shell.execute_reply": "2022-05-06T09:43:26.472136Z"
    },
    "papermill": {
     "duration": 0.119226,
     "end_time": "2022-05-06T09:43:26.475403",
     "exception": false,
     "start_time": "2022-05-06T09:43:26.356177",
     "status": "completed"
    },
    "tags": []
   },
   "outputs": [
    {
     "data": {
      "text/html": [
       "<div>\n",
       "<style scoped>\n",
       "    .dataframe tbody tr th:only-of-type {\n",
       "        vertical-align: middle;\n",
       "    }\n",
       "\n",
       "    .dataframe tbody tr th {\n",
       "        vertical-align: top;\n",
       "    }\n",
       "\n",
       "    .dataframe thead th {\n",
       "        text-align: right;\n",
       "    }\n",
       "</style>\n",
       "<table border=\"1\" class=\"dataframe\">\n",
       "  <thead>\n",
       "    <tr style=\"text-align: right;\">\n",
       "      <th></th>\n",
       "      <th>count</th>\n",
       "      <th>mean</th>\n",
       "      <th>std</th>\n",
       "      <th>min</th>\n",
       "      <th>25%</th>\n",
       "      <th>50%</th>\n",
       "      <th>75%</th>\n",
       "      <th>max</th>\n",
       "    </tr>\n",
       "  </thead>\n",
       "  <tbody>\n",
       "    <tr>\n",
       "      <th>ID</th>\n",
       "      <td>214200.0</td>\n",
       "      <td>107099.500000</td>\n",
       "      <td>61834.358168</td>\n",
       "      <td>0.0</td>\n",
       "      <td>53549.75</td>\n",
       "      <td>107099.5</td>\n",
       "      <td>160649.25</td>\n",
       "      <td>214199.0</td>\n",
       "    </tr>\n",
       "    <tr>\n",
       "      <th>shop_id</th>\n",
       "      <td>214200.0</td>\n",
       "      <td>31.642857</td>\n",
       "      <td>17.561933</td>\n",
       "      <td>2.0</td>\n",
       "      <td>16.00</td>\n",
       "      <td>34.5</td>\n",
       "      <td>47.00</td>\n",
       "      <td>59.0</td>\n",
       "    </tr>\n",
       "    <tr>\n",
       "      <th>item_id</th>\n",
       "      <td>214200.0</td>\n",
       "      <td>11019.398627</td>\n",
       "      <td>6252.644590</td>\n",
       "      <td>30.0</td>\n",
       "      <td>5381.50</td>\n",
       "      <td>11203.0</td>\n",
       "      <td>16071.50</td>\n",
       "      <td>22167.0</td>\n",
       "    </tr>\n",
       "  </tbody>\n",
       "</table>\n",
       "</div>"
      ],
      "text/plain": [
       "            count           mean           std   min       25%       50%  \\\n",
       "ID       214200.0  107099.500000  61834.358168   0.0  53549.75  107099.5   \n",
       "shop_id  214200.0      31.642857     17.561933   2.0     16.00      34.5   \n",
       "item_id  214200.0   11019.398627   6252.644590  30.0   5381.50   11203.0   \n",
       "\n",
       "               75%       max  \n",
       "ID       160649.25  214199.0  \n",
       "shop_id      47.00      59.0  \n",
       "item_id   16071.50   22167.0  "
      ]
     },
     "execution_count": 8,
     "metadata": {},
     "output_type": "execute_result"
    }
   ],
   "source": [
    "df_test.describe().T"
   ]
  },
  {
   "cell_type": "code",
   "execution_count": 9,
   "id": "13bd2143",
   "metadata": {
    "execution": {
     "iopub.execute_input": "2022-05-06T09:43:26.631665Z",
     "iopub.status.busy": "2022-05-06T09:43:26.631061Z",
     "iopub.status.idle": "2022-05-06T09:43:26.638715Z",
     "shell.execute_reply": "2022-05-06T09:43:26.637935Z"
    },
    "papermill": {
     "duration": 0.087931,
     "end_time": "2022-05-06T09:43:26.640694",
     "exception": false,
     "start_time": "2022-05-06T09:43:26.552763",
     "status": "completed"
    },
    "tags": []
   },
   "outputs": [
    {
     "data": {
      "text/plain": [
       "0           999.00\n",
       "1           899.00\n",
       "2           899.00\n",
       "3          1709.05\n",
       "4          1099.00\n",
       "            ...   \n",
       "2935844     299.00\n",
       "2935845     299.00\n",
       "2935846     349.00\n",
       "2935847     299.00\n",
       "2935848     299.00\n",
       "Name: item_price, Length: 2935849, dtype: float64"
      ]
     },
     "execution_count": 9,
     "metadata": {},
     "output_type": "execute_result"
    }
   ],
   "source": [
    "df_sales['item_price']"
   ]
  },
  {
   "cell_type": "code",
   "execution_count": 10,
   "id": "432f86d0",
   "metadata": {
    "execution": {
     "iopub.execute_input": "2022-05-06T09:43:26.796090Z",
     "iopub.status.busy": "2022-05-06T09:43:26.795444Z",
     "iopub.status.idle": "2022-05-06T09:43:27.063509Z",
     "shell.execute_reply": "2022-05-06T09:43:27.062850Z"
    },
    "papermill": {
     "duration": 0.347308,
     "end_time": "2022-05-06T09:43:27.065432",
     "exception": false,
     "start_time": "2022-05-06T09:43:26.718124",
     "status": "completed"
    },
    "tags": []
   },
   "outputs": [
    {
     "data": {
      "text/html": [
       "<div>\n",
       "<style scoped>\n",
       "    .dataframe tbody tr th:only-of-type {\n",
       "        vertical-align: middle;\n",
       "    }\n",
       "\n",
       "    .dataframe tbody tr th {\n",
       "        vertical-align: top;\n",
       "    }\n",
       "\n",
       "    .dataframe thead th {\n",
       "        text-align: right;\n",
       "    }\n",
       "</style>\n",
       "<table border=\"1\" class=\"dataframe\">\n",
       "  <thead>\n",
       "    <tr style=\"text-align: right;\">\n",
       "      <th></th>\n",
       "      <th>shop_id</th>\n",
       "      <th>item_id</th>\n",
       "      <th>item_price</th>\n",
       "      <th>item_cnt_day</th>\n",
       "    </tr>\n",
       "  </thead>\n",
       "  <tbody>\n",
       "    <tr>\n",
       "      <th>shop_id</th>\n",
       "      <td>1.000000</td>\n",
       "      <td>0.029396</td>\n",
       "      <td>-0.024034</td>\n",
       "      <td>-0.005230</td>\n",
       "    </tr>\n",
       "    <tr>\n",
       "      <th>item_id</th>\n",
       "      <td>0.029396</td>\n",
       "      <td>1.000000</td>\n",
       "      <td>-0.134104</td>\n",
       "      <td>0.016650</td>\n",
       "    </tr>\n",
       "    <tr>\n",
       "      <th>item_price</th>\n",
       "      <td>-0.024034</td>\n",
       "      <td>-0.134104</td>\n",
       "      <td>1.000000</td>\n",
       "      <td>0.011197</td>\n",
       "    </tr>\n",
       "    <tr>\n",
       "      <th>item_cnt_day</th>\n",
       "      <td>-0.005230</td>\n",
       "      <td>0.016650</td>\n",
       "      <td>0.011197</td>\n",
       "      <td>1.000000</td>\n",
       "    </tr>\n",
       "  </tbody>\n",
       "</table>\n",
       "</div>"
      ],
      "text/plain": [
       "               shop_id   item_id  item_price  item_cnt_day\n",
       "shop_id       1.000000  0.029396   -0.024034     -0.005230\n",
       "item_id       0.029396  1.000000   -0.134104      0.016650\n",
       "item_price   -0.024034 -0.134104    1.000000      0.011197\n",
       "item_cnt_day -0.005230  0.016650    0.011197      1.000000"
      ]
     },
     "execution_count": 10,
     "metadata": {},
     "output_type": "execute_result"
    }
   ],
   "source": [
    "df_sales[['shop_id','item_id','item_price','item_cnt_day']].corr()"
   ]
  },
  {
   "cell_type": "code",
   "execution_count": 11,
   "id": "eb34af38",
   "metadata": {
    "execution": {
     "iopub.execute_input": "2022-05-06T09:43:27.221968Z",
     "iopub.status.busy": "2022-05-06T09:43:27.221434Z",
     "iopub.status.idle": "2022-05-06T09:43:27.242128Z",
     "shell.execute_reply": "2022-05-06T09:43:27.241267Z"
    },
    "papermill": {
     "duration": 0.101476,
     "end_time": "2022-05-06T09:43:27.244242",
     "exception": false,
     "start_time": "2022-05-06T09:43:27.142766",
     "status": "completed"
    },
    "tags": []
   },
   "outputs": [
    {
     "data": {
      "text/html": [
       "<div>\n",
       "<style scoped>\n",
       "    .dataframe tbody tr th:only-of-type {\n",
       "        vertical-align: middle;\n",
       "    }\n",
       "\n",
       "    .dataframe tbody tr th {\n",
       "        vertical-align: top;\n",
       "    }\n",
       "\n",
       "    .dataframe thead th {\n",
       "        text-align: right;\n",
       "    }\n",
       "</style>\n",
       "<table border=\"1\" class=\"dataframe\">\n",
       "  <thead>\n",
       "    <tr style=\"text-align: right;\">\n",
       "      <th></th>\n",
       "      <th>count</th>\n",
       "      <th>mean</th>\n",
       "      <th>std</th>\n",
       "      <th>min</th>\n",
       "      <th>25%</th>\n",
       "      <th>50%</th>\n",
       "      <th>75%</th>\n",
       "      <th>max</th>\n",
       "    </tr>\n",
       "  </thead>\n",
       "  <tbody>\n",
       "    <tr>\n",
       "      <th>item_id</th>\n",
       "      <td>22170.0</td>\n",
       "      <td>11084.500000</td>\n",
       "      <td>6400.072070</td>\n",
       "      <td>0.0</td>\n",
       "      <td>5542.25</td>\n",
       "      <td>11084.5</td>\n",
       "      <td>16626.75</td>\n",
       "      <td>22169.0</td>\n",
       "    </tr>\n",
       "    <tr>\n",
       "      <th>item_category_id</th>\n",
       "      <td>22170.0</td>\n",
       "      <td>46.290753</td>\n",
       "      <td>15.941486</td>\n",
       "      <td>0.0</td>\n",
       "      <td>37.00</td>\n",
       "      <td>40.0</td>\n",
       "      <td>58.00</td>\n",
       "      <td>83.0</td>\n",
       "    </tr>\n",
       "  </tbody>\n",
       "</table>\n",
       "</div>"
      ],
      "text/plain": [
       "                    count          mean          std  min      25%      50%  \\\n",
       "item_id           22170.0  11084.500000  6400.072070  0.0  5542.25  11084.5   \n",
       "item_category_id  22170.0     46.290753    15.941486  0.0    37.00     40.0   \n",
       "\n",
       "                       75%      max  \n",
       "item_id           16626.75  22169.0  \n",
       "item_category_id     58.00     83.0  "
      ]
     },
     "execution_count": 11,
     "metadata": {},
     "output_type": "execute_result"
    }
   ],
   "source": [
    "df_items.describe().T"
   ]
  },
  {
   "cell_type": "code",
   "execution_count": 12,
   "id": "8e40df73",
   "metadata": {
    "execution": {
     "iopub.execute_input": "2022-05-06T09:43:27.404987Z",
     "iopub.status.busy": "2022-05-06T09:43:27.404390Z",
     "iopub.status.idle": "2022-05-06T09:43:27.663027Z",
     "shell.execute_reply": "2022-05-06T09:43:27.662096Z"
    },
    "papermill": {
     "duration": 0.340058,
     "end_time": "2022-05-06T09:43:27.665651",
     "exception": false,
     "start_time": "2022-05-06T09:43:27.325593",
     "status": "completed"
    },
    "tags": []
   },
   "outputs": [
    {
     "data": {
      "text/plain": [
       "<function matplotlib.pyplot.show(close=None, block=None)>"
      ]
     },
     "execution_count": 12,
     "metadata": {},
     "output_type": "execute_result"
    },
    {
     "data": {
      "image/png": "[encoded data removed]",
      "text/plain": [
       "<Figure size 576x360 with 1 Axes>"
      ]
     },
     "metadata": {
      "needs_background": "light"
     },
     "output_type": "display_data"
    }
   ],
   "source": [
    "plt.figure(figsize=(8,5))\n",
    "plt.hist(df_sales['item_id'])\n",
    "plt.show"
   ]
  },
  {
   "cell_type": "markdown",
   "id": "3182a242",
   "metadata": {
    "papermill": {
     "duration": 0.078119,
     "end_time": "2022-05-06T09:43:27.824843",
     "exception": false,
     "start_time": "2022-05-06T09:43:27.746724",
     "status": "completed"
    },
    "tags": []
   },
   "source": [
    "> Distribution of item id"
   ]
  },
  {
   "cell_type": "code",
   "execution_count": 13,
   "id": "54dbeb11",
   "metadata": {
    "execution": {
     "iopub.execute_input": "2022-05-06T09:43:27.989551Z",
     "iopub.status.busy": "2022-05-06T09:43:27.989221Z",
     "iopub.status.idle": "2022-05-06T09:43:28.153611Z",
     "shell.execute_reply": "2022-05-06T09:43:28.152894Z"
    },
    "papermill": {
     "duration": 0.248957,
     "end_time": "2022-05-06T09:43:28.155925",
     "exception": false,
     "start_time": "2022-05-06T09:43:27.906968",
     "status": "completed"
    },
    "tags": []
   },
   "outputs": [
    {
     "data": {
      "text/plain": [
       "<function matplotlib.pyplot.show(close=None, block=None)>"
      ]
     },
     "execution_count": 13,
     "metadata": {},
     "output_type": "execute_result"
    },
    {
     "data": {
      "image/png": "[encoded data removed]",
      "text/plain": [
       "<Figure size 576x360 with 1 Axes>"
      ]
     },
     "metadata": {
      "needs_background": "light"
     },
     "output_type": "display_data"
    }
   ],
   "source": [
    "plt.figure(figsize=(8,5))\n",
    "plt.hist(df_items['item_category_id'])\n",
    "plt.show"
   ]
  },
  {
   "cell_type": "markdown",
   "id": "a01ca691",
   "metadata": {
    "papermill": {
     "duration": 0.078691,
     "end_time": "2022-05-06T09:43:28.315072",
     "exception": false,
     "start_time": "2022-05-06T09:43:28.236381",
     "status": "completed"
    },
    "tags": []
   },
   "source": [
    "> Distribution of item categories id"
   ]
  },
  {
   "cell_type": "code",
   "execution_count": 14,
   "id": "e29a30d5",
   "metadata": {
    "execution": {
     "iopub.execute_input": "2022-05-06T09:43:28.476075Z",
     "iopub.status.busy": "2022-05-06T09:43:28.475519Z",
     "iopub.status.idle": "2022-05-06T09:43:28.827353Z",
     "shell.execute_reply": "2022-05-06T09:43:28.826463Z"
    },
    "papermill": {
     "duration": 0.435116,
     "end_time": "2022-05-06T09:43:28.829551",
     "exception": false,
     "start_time": "2022-05-06T09:43:28.394435",
     "status": "completed"
    },
    "tags": []
   },
   "outputs": [
    {
     "data": {
      "text/plain": [
       "<function matplotlib.pyplot.show(close=None, block=None)>"
      ]
     },
     "execution_count": 14,
     "metadata": {},
     "output_type": "execute_result"
    },
    {
     "data": {
      "image/png": "[encoded data removed]",
      "text/plain": [
       "<Figure size 576x360 with 1 Axes>"
      ]
     },
     "metadata": {
      "needs_background": "light"
     },
     "output_type": "display_data"
    }
   ],
   "source": [
    "plt.figure(figsize=(8,5))\n",
    "plt.hist(df_sales['item_cnt_day'])\n",
    "plt.show"
   ]
  },
  {
   "cell_type": "code",
   "execution_count": 15,
   "id": "fd327f29",
   "metadata": {
    "execution": {
     "iopub.execute_input": "2022-05-06T09:43:28.994111Z",
     "iopub.status.busy": "2022-05-06T09:43:28.993549Z",
     "iopub.status.idle": "2022-05-06T09:43:29.011570Z",
     "shell.execute_reply": "2022-05-06T09:43:29.010746Z"
    },
    "papermill": {
     "duration": 0.101997,
     "end_time": "2022-05-06T09:43:29.013700",
     "exception": false,
     "start_time": "2022-05-06T09:43:28.911703",
     "status": "completed"
    },
    "tags": []
   },
   "outputs": [
    {
     "data": {
      "text/html": [
       "<div>\n",
       "<style scoped>\n",
       "    .dataframe tbody tr th:only-of-type {\n",
       "        vertical-align: middle;\n",
       "    }\n",
       "\n",
       "    .dataframe tbody tr th {\n",
       "        vertical-align: top;\n",
       "    }\n",
       "\n",
       "    .dataframe thead th {\n",
       "        text-align: right;\n",
       "    }\n",
       "</style>\n",
       "<table border=\"1\" class=\"dataframe\">\n",
       "  <thead>\n",
       "    <tr style=\"text-align: right;\">\n",
       "      <th></th>\n",
       "      <th>item_name</th>\n",
       "      <th>item_id</th>\n",
       "    </tr>\n",
       "    <tr>\n",
       "      <th>item_category_id</th>\n",
       "      <th></th>\n",
       "      <th></th>\n",
       "    </tr>\n",
       "  </thead>\n",
       "  <tbody>\n",
       "    <tr>\n",
       "      <th>0</th>\n",
       "      <td>4</td>\n",
       "      <td>4</td>\n",
       "    </tr>\n",
       "    <tr>\n",
       "      <th>1</th>\n",
       "      <td>2</td>\n",
       "      <td>2</td>\n",
       "    </tr>\n",
       "    <tr>\n",
       "      <th>2</th>\n",
       "      <td>75</td>\n",
       "      <td>75</td>\n",
       "    </tr>\n",
       "    <tr>\n",
       "      <th>3</th>\n",
       "      <td>34</td>\n",
       "      <td>34</td>\n",
       "    </tr>\n",
       "    <tr>\n",
       "      <th>4</th>\n",
       "      <td>15</td>\n",
       "      <td>15</td>\n",
       "    </tr>\n",
       "    <tr>\n",
       "      <th>...</th>\n",
       "      <td>...</td>\n",
       "      <td>...</td>\n",
       "    </tr>\n",
       "    <tr>\n",
       "      <th>79</th>\n",
       "      <td>1</td>\n",
       "      <td>1</td>\n",
       "    </tr>\n",
       "    <tr>\n",
       "      <th>80</th>\n",
       "      <td>6</td>\n",
       "      <td>6</td>\n",
       "    </tr>\n",
       "    <tr>\n",
       "      <th>81</th>\n",
       "      <td>7</td>\n",
       "      <td>7</td>\n",
       "    </tr>\n",
       "    <tr>\n",
       "      <th>82</th>\n",
       "      <td>8</td>\n",
       "      <td>8</td>\n",
       "    </tr>\n",
       "    <tr>\n",
       "      <th>83</th>\n",
       "      <td>15</td>\n",
       "      <td>15</td>\n",
       "    </tr>\n",
       "  </tbody>\n",
       "</table>\n",
       "<p>84 rows × 2 columns</p>\n",
       "</div>"
      ],
      "text/plain": [
       "                  item_name  item_id\n",
       "item_category_id                    \n",
       "0                         4        4\n",
       "1                         2        2\n",
       "2                        75       75\n",
       "3                        34       34\n",
       "4                        15       15\n",
       "...                     ...      ...\n",
       "79                        1        1\n",
       "80                        6        6\n",
       "81                        7        7\n",
       "82                        8        8\n",
       "83                       15       15\n",
       "\n",
       "[84 rows x 2 columns]"
      ]
     },
     "execution_count": 15,
     "metadata": {},
     "output_type": "execute_result"
    }
   ],
   "source": [
    "df_items.groupby('item_category_id').count()"
   ]
  },
  {
   "cell_type": "code",
   "execution_count": 16,
   "id": "aeca66c3",
   "metadata": {
    "execution": {
     "iopub.execute_input": "2022-05-06T09:43:29.183959Z",
     "iopub.status.busy": "2022-05-06T09:43:29.183554Z",
     "iopub.status.idle": "2022-05-06T09:43:29.200050Z",
     "shell.execute_reply": "2022-05-06T09:43:29.199187Z"
    },
    "papermill": {
     "duration": 0.104103,
     "end_time": "2022-05-06T09:43:29.202149",
     "exception": false,
     "start_time": "2022-05-06T09:43:29.098046",
     "status": "completed"
    },
    "tags": []
   },
   "outputs": [
    {
     "data": {
      "text/html": [
       "<div>\n",
       "<style scoped>\n",
       "    .dataframe tbody tr th:only-of-type {\n",
       "        vertical-align: middle;\n",
       "    }\n",
       "\n",
       "    .dataframe tbody tr th {\n",
       "        vertical-align: top;\n",
       "    }\n",
       "\n",
       "    .dataframe thead th {\n",
       "        text-align: right;\n",
       "    }\n",
       "</style>\n",
       "<table border=\"1\" class=\"dataframe\">\n",
       "  <thead>\n",
       "    <tr style=\"text-align: right;\">\n",
       "      <th></th>\n",
       "      <th>item_id</th>\n",
       "    </tr>\n",
       "    <tr>\n",
       "      <th>item_category_id</th>\n",
       "      <th></th>\n",
       "    </tr>\n",
       "  </thead>\n",
       "  <tbody>\n",
       "    <tr>\n",
       "      <th>0</th>\n",
       "      <td>13552.250000</td>\n",
       "    </tr>\n",
       "    <tr>\n",
       "      <th>1</th>\n",
       "      <td>5673.000000</td>\n",
       "    </tr>\n",
       "    <tr>\n",
       "      <th>2</th>\n",
       "      <td>7434.800000</td>\n",
       "    </tr>\n",
       "    <tr>\n",
       "      <th>3</th>\n",
       "      <td>6113.705882</td>\n",
       "    </tr>\n",
       "    <tr>\n",
       "      <th>4</th>\n",
       "      <td>4969.066667</td>\n",
       "    </tr>\n",
       "    <tr>\n",
       "      <th>...</th>\n",
       "      <td>...</td>\n",
       "    </tr>\n",
       "    <tr>\n",
       "      <th>79</th>\n",
       "      <td>17717.000000</td>\n",
       "    </tr>\n",
       "    <tr>\n",
       "      <th>80</th>\n",
       "      <td>9249.000000</td>\n",
       "    </tr>\n",
       "    <tr>\n",
       "      <th>81</th>\n",
       "      <td>13351.857143</td>\n",
       "    </tr>\n",
       "    <tr>\n",
       "      <th>82</th>\n",
       "      <td>13350.250000</td>\n",
       "    </tr>\n",
       "    <tr>\n",
       "      <th>83</th>\n",
       "      <td>22092.000000</td>\n",
       "    </tr>\n",
       "  </tbody>\n",
       "</table>\n",
       "<p>84 rows × 1 columns</p>\n",
       "</div>"
      ],
      "text/plain": [
       "                       item_id\n",
       "item_category_id              \n",
       "0                 13552.250000\n",
       "1                  5673.000000\n",
       "2                  7434.800000\n",
       "3                  6113.705882\n",
       "4                  4969.066667\n",
       "...                        ...\n",
       "79                17717.000000\n",
       "80                 9249.000000\n",
       "81                13351.857143\n",
       "82                13350.250000\n",
       "83                22092.000000\n",
       "\n",
       "[84 rows x 1 columns]"
      ]
     },
     "execution_count": 16,
     "metadata": {},
     "output_type": "execute_result"
    }
   ],
   "source": [
    "df_items.groupby('item_category_id').mean()"
   ]
  },
  {
   "cell_type": "code",
   "execution_count": 17,
   "id": "5b94b969",
   "metadata": {
    "execution": {
     "iopub.execute_input": "2022-05-06T09:43:29.371316Z",
     "iopub.status.busy": "2022-05-06T09:43:29.370868Z",
     "iopub.status.idle": "2022-05-06T09:43:29.390871Z",
     "shell.execute_reply": "2022-05-06T09:43:29.390063Z"
    },
    "papermill": {
     "duration": 0.109037,
     "end_time": "2022-05-06T09:43:29.393062",
     "exception": false,
     "start_time": "2022-05-06T09:43:29.284025",
     "status": "completed"
    },
    "tags": []
   },
   "outputs": [
    {
     "data": {
      "text/html": [
       "<div>\n",
       "<style scoped>\n",
       "    .dataframe tbody tr th:only-of-type {\n",
       "        vertical-align: middle;\n",
       "    }\n",
       "\n",
       "    .dataframe tbody tr th {\n",
       "        vertical-align: top;\n",
       "    }\n",
       "\n",
       "    .dataframe thead th {\n",
       "        text-align: right;\n",
       "    }\n",
       "</style>\n",
       "<table border=\"1\" class=\"dataframe\">\n",
       "  <thead>\n",
       "    <tr style=\"text-align: right;\">\n",
       "      <th></th>\n",
       "      <th>item_name</th>\n",
       "      <th>item_id</th>\n",
       "      <th>item_category_id</th>\n",
       "      <th>diff_col_of_item_id</th>\n",
       "    </tr>\n",
       "  </thead>\n",
       "  <tbody>\n",
       "    <tr>\n",
       "      <th>0</th>\n",
       "      <td>! ВО ВЛАСТИ НАВАЖДЕНИЯ (ПЛАСТ.)         D</td>\n",
       "      <td>0</td>\n",
       "      <td>40</td>\n",
       "      <td>10816.0</td>\n",
       "    </tr>\n",
       "    <tr>\n",
       "      <th>1</th>\n",
       "      <td>!ABBYY FineReader 12 Professional Edition Full...</td>\n",
       "      <td>1</td>\n",
       "      <td>76</td>\n",
       "      <td>134.0</td>\n",
       "    </tr>\n",
       "    <tr>\n",
       "      <th>2</th>\n",
       "      <td>***В ЛУЧАХ СЛАВЫ   (UNV)                    D</td>\n",
       "      <td>2</td>\n",
       "      <td>40</td>\n",
       "      <td>7966.0</td>\n",
       "    </tr>\n",
       "    <tr>\n",
       "      <th>3</th>\n",
       "      <td>***ГОЛУБАЯ ВОЛНА  (Univ)                      D</td>\n",
       "      <td>3</td>\n",
       "      <td>40</td>\n",
       "      <td>7419.0</td>\n",
       "    </tr>\n",
       "    <tr>\n",
       "      <th>4</th>\n",
       "      <td>***КОРОБКА (СТЕКЛО)                       D</td>\n",
       "      <td>4</td>\n",
       "      <td>40</td>\n",
       "      <td>11147.0</td>\n",
       "    </tr>\n",
       "  </tbody>\n",
       "</table>\n",
       "</div>"
      ],
      "text/plain": [
       "                                           item_name  item_id  \\\n",
       "0          ! ВО ВЛАСТИ НАВАЖДЕНИЯ (ПЛАСТ.)         D        0   \n",
       "1  !ABBYY FineReader 12 Professional Edition Full...        1   \n",
       "2      ***В ЛУЧАХ СЛАВЫ   (UNV)                    D        2   \n",
       "3    ***ГОЛУБАЯ ВОЛНА  (Univ)                      D        3   \n",
       "4        ***КОРОБКА (СТЕКЛО)                       D        4   \n",
       "\n",
       "   item_category_id  diff_col_of_item_id  \n",
       "0                40              10816.0  \n",
       "1                76                134.0  \n",
       "2                40               7966.0  \n",
       "3                40               7419.0  \n",
       "4                40              11147.0  "
      ]
     },
     "execution_count": 17,
     "metadata": {},
     "output_type": "execute_result"
    }
   ],
   "source": [
    "df_items['diff_col_of_item_id'] = df_items.groupby('item_category_id')['item_id'].max() - df_items.groupby('item_category_id')['item_id'].min()\n",
    "\n",
    "df_items.head()"
   ]
  },
  {
   "cell_type": "code",
   "execution_count": 18,
   "id": "eb3e992a",
   "metadata": {
    "execution": {
     "iopub.execute_input": "2022-05-06T09:43:29.565088Z",
     "iopub.status.busy": "2022-05-06T09:43:29.564766Z",
     "iopub.status.idle": "2022-05-06T09:43:29.568283Z",
     "shell.execute_reply": "2022-05-06T09:43:29.567325Z"
    },
    "papermill": {
     "duration": 0.090332,
     "end_time": "2022-05-06T09:43:29.570523",
     "exception": false,
     "start_time": "2022-05-06T09:43:29.480191",
     "status": "completed"
    },
    "tags": []
   },
   "outputs": [],
   "source": [
    "#df_items.drop('diff_col', inplace=True, axis=1)\n",
    "#df_items"
   ]
  },
  {
   "cell_type": "code",
   "execution_count": 19,
   "id": "a8653adc",
   "metadata": {
    "execution": {
     "iopub.execute_input": "2022-05-06T09:43:29.755802Z",
     "iopub.status.busy": "2022-05-06T09:43:29.755290Z",
     "iopub.status.idle": "2022-05-06T09:43:29.765700Z",
     "shell.execute_reply": "2022-05-06T09:43:29.765128Z"
    },
    "papermill": {
     "duration": 0.101378,
     "end_time": "2022-05-06T09:43:29.767729",
     "exception": false,
     "start_time": "2022-05-06T09:43:29.666351",
     "status": "completed"
    },
    "tags": []
   },
   "outputs": [
    {
     "data": {
      "text/html": [
       "<div>\n",
       "<style scoped>\n",
       "    .dataframe tbody tr th:only-of-type {\n",
       "        vertical-align: middle;\n",
       "    }\n",
       "\n",
       "    .dataframe tbody tr th {\n",
       "        vertical-align: top;\n",
       "    }\n",
       "\n",
       "    .dataframe thead th {\n",
       "        text-align: right;\n",
       "    }\n",
       "</style>\n",
       "<table border=\"1\" class=\"dataframe\">\n",
       "  <thead>\n",
       "    <tr style=\"text-align: right;\">\n",
       "      <th></th>\n",
       "      <th>item_name</th>\n",
       "      <th>item_id</th>\n",
       "      <th>item_category_id</th>\n",
       "      <th>diff_col_of_item_id</th>\n",
       "    </tr>\n",
       "  </thead>\n",
       "  <tbody>\n",
       "    <tr>\n",
       "      <th>0</th>\n",
       "      <td>! ВО ВЛАСТИ НАВАЖДЕНИЯ (ПЛАСТ.)         D</td>\n",
       "      <td>0</td>\n",
       "      <td>40</td>\n",
       "      <td>10816.0</td>\n",
       "    </tr>\n",
       "    <tr>\n",
       "      <th>1</th>\n",
       "      <td>!ABBYY FineReader 12 Professional Edition Full...</td>\n",
       "      <td>1</td>\n",
       "      <td>76</td>\n",
       "      <td>134.0</td>\n",
       "    </tr>\n",
       "    <tr>\n",
       "      <th>2</th>\n",
       "      <td>***В ЛУЧАХ СЛАВЫ   (UNV)                    D</td>\n",
       "      <td>2</td>\n",
       "      <td>40</td>\n",
       "      <td>7966.0</td>\n",
       "    </tr>\n",
       "    <tr>\n",
       "      <th>3</th>\n",
       "      <td>***ГОЛУБАЯ ВОЛНА  (Univ)                      D</td>\n",
       "      <td>3</td>\n",
       "      <td>40</td>\n",
       "      <td>7419.0</td>\n",
       "    </tr>\n",
       "    <tr>\n",
       "      <th>4</th>\n",
       "      <td>***КОРОБКА (СТЕКЛО)                       D</td>\n",
       "      <td>4</td>\n",
       "      <td>40</td>\n",
       "      <td>11147.0</td>\n",
       "    </tr>\n",
       "  </tbody>\n",
       "</table>\n",
       "</div>"
      ],
      "text/plain": [
       "                                           item_name  item_id  \\\n",
       "0          ! ВО ВЛАСТИ НАВАЖДЕНИЯ (ПЛАСТ.)         D        0   \n",
       "1  !ABBYY FineReader 12 Professional Edition Full...        1   \n",
       "2      ***В ЛУЧАХ СЛАВЫ   (UNV)                    D        2   \n",
       "3    ***ГОЛУБАЯ ВОЛНА  (Univ)                      D        3   \n",
       "4        ***КОРОБКА (СТЕКЛО)                       D        4   \n",
       "\n",
       "   item_category_id  diff_col_of_item_id  \n",
       "0                40              10816.0  \n",
       "1                76                134.0  \n",
       "2                40               7966.0  \n",
       "3                40               7419.0  \n",
       "4                40              11147.0  "
      ]
     },
     "execution_count": 19,
     "metadata": {},
     "output_type": "execute_result"
    }
   ],
   "source": [
    "df_items.head()"
   ]
  },
  {
   "cell_type": "markdown",
   "id": "75e6eb33",
   "metadata": {
    "papermill": {
     "duration": 0.081819,
     "end_time": "2022-05-06T09:43:29.931790",
     "exception": false,
     "start_time": "2022-05-06T09:43:29.849971",
     "status": "completed"
    },
    "tags": []
   },
   "source": [
    "> What we have found so far:\n",
    "\n",
    "1. item id and shop id will be only independent variable will predict target variable\n",
    "2. we will drop item price column from train data set\n",
    "3. shop ids are between 1 t0 60\n",
    "4. item id and item price are correlate with each other\n",
    "5. each item id fall into certain item category as item ids >> item category\n",
    "6. we can assign new column item_category to each item id"
   ]
  },
  {
   "cell_type": "markdown",
   "id": "ea5bcdd5",
   "metadata": {
    "papermill": {
     "duration": 0.08285,
     "end_time": "2022-05-06T09:43:30.099224",
     "exception": false,
     "start_time": "2022-05-06T09:43:30.016374",
     "status": "completed"
    },
    "tags": []
   },
   "source": [
    "# > train and test data set preparation and pre-processing"
   ]
  },
  {
   "cell_type": "code",
   "execution_count": 20,
   "id": "bcb001cf",
   "metadata": {
    "execution": {
     "iopub.execute_input": "2022-05-06T09:43:30.264889Z",
     "iopub.status.busy": "2022-05-06T09:43:30.264292Z",
     "iopub.status.idle": "2022-05-06T09:43:30.275586Z",
     "shell.execute_reply": "2022-05-06T09:43:30.275025Z"
    },
    "papermill": {
     "duration": 0.096083,
     "end_time": "2022-05-06T09:43:30.277368",
     "exception": false,
     "start_time": "2022-05-06T09:43:30.181285",
     "status": "completed"
    },
    "tags": []
   },
   "outputs": [
    {
     "data": {
      "text/html": [
       "<div>\n",
       "<style scoped>\n",
       "    .dataframe tbody tr th:only-of-type {\n",
       "        vertical-align: middle;\n",
       "    }\n",
       "\n",
       "    .dataframe tbody tr th {\n",
       "        vertical-align: top;\n",
       "    }\n",
       "\n",
       "    .dataframe thead th {\n",
       "        text-align: right;\n",
       "    }\n",
       "</style>\n",
       "<table border=\"1\" class=\"dataframe\">\n",
       "  <thead>\n",
       "    <tr style=\"text-align: right;\">\n",
       "      <th></th>\n",
       "      <th>date</th>\n",
       "      <th>date_block_num</th>\n",
       "      <th>shop_id</th>\n",
       "      <th>item_id</th>\n",
       "      <th>item_price</th>\n",
       "      <th>item_cnt_day</th>\n",
       "    </tr>\n",
       "  </thead>\n",
       "  <tbody>\n",
       "    <tr>\n",
       "      <th>0</th>\n",
       "      <td>02.01.2013</td>\n",
       "      <td>0</td>\n",
       "      <td>59</td>\n",
       "      <td>22154</td>\n",
       "      <td>999.00</td>\n",
       "      <td>1.0</td>\n",
       "    </tr>\n",
       "    <tr>\n",
       "      <th>1</th>\n",
       "      <td>03.01.2013</td>\n",
       "      <td>0</td>\n",
       "      <td>25</td>\n",
       "      <td>2552</td>\n",
       "      <td>899.00</td>\n",
       "      <td>1.0</td>\n",
       "    </tr>\n",
       "    <tr>\n",
       "      <th>2</th>\n",
       "      <td>05.01.2013</td>\n",
       "      <td>0</td>\n",
       "      <td>25</td>\n",
       "      <td>2552</td>\n",
       "      <td>899.00</td>\n",
       "      <td>-1.0</td>\n",
       "    </tr>\n",
       "    <tr>\n",
       "      <th>3</th>\n",
       "      <td>06.01.2013</td>\n",
       "      <td>0</td>\n",
       "      <td>25</td>\n",
       "      <td>2554</td>\n",
       "      <td>1709.05</td>\n",
       "      <td>1.0</td>\n",
       "    </tr>\n",
       "    <tr>\n",
       "      <th>4</th>\n",
       "      <td>15.01.2013</td>\n",
       "      <td>0</td>\n",
       "      <td>25</td>\n",
       "      <td>2555</td>\n",
       "      <td>1099.00</td>\n",
       "      <td>1.0</td>\n",
       "    </tr>\n",
       "  </tbody>\n",
       "</table>\n",
       "</div>"
      ],
      "text/plain": [
       "         date  date_block_num  shop_id  item_id  item_price  item_cnt_day\n",
       "0  02.01.2013               0       59    22154      999.00           1.0\n",
       "1  03.01.2013               0       25     2552      899.00           1.0\n",
       "2  05.01.2013               0       25     2552      899.00          -1.0\n",
       "3  06.01.2013               0       25     2554     1709.05           1.0\n",
       "4  15.01.2013               0       25     2555     1099.00           1.0"
      ]
     },
     "execution_count": 20,
     "metadata": {},
     "output_type": "execute_result"
    }
   ],
   "source": [
    "df_sales.head()"
   ]
  },
  {
   "cell_type": "code",
   "execution_count": 21,
   "id": "8eb561a8",
   "metadata": {
    "execution": {
     "iopub.execute_input": "2022-05-06T09:43:30.449487Z",
     "iopub.status.busy": "2022-05-06T09:43:30.448785Z",
     "iopub.status.idle": "2022-05-06T09:43:30.793921Z",
     "shell.execute_reply": "2022-05-06T09:43:30.793129Z"
    },
    "papermill": {
     "duration": 0.432496,
     "end_time": "2022-05-06T09:43:30.796152",
     "exception": false,
     "start_time": "2022-05-06T09:43:30.363656",
     "status": "completed"
    },
    "tags": []
   },
   "outputs": [
    {
     "data": {
      "text/plain": [
       "date              0\n",
       "date_block_num    0\n",
       "shop_id           0\n",
       "item_id           0\n",
       "item_price        0\n",
       "item_cnt_day      0\n",
       "dtype: int64"
      ]
     },
     "execution_count": 21,
     "metadata": {},
     "output_type": "execute_result"
    }
   ],
   "source": [
    "df_sales.isnull().sum()"
   ]
  },
  {
   "cell_type": "code",
   "execution_count": 22,
   "id": "d6395744",
   "metadata": {
    "execution": {
     "iopub.execute_input": "2022-05-06T09:43:30.966079Z",
     "iopub.status.busy": "2022-05-06T09:43:30.965762Z",
     "iopub.status.idle": "2022-05-06T09:43:31.949140Z",
     "shell.execute_reply": "2022-05-06T09:43:31.948306Z"
    },
    "papermill": {
     "duration": 1.071116,
     "end_time": "2022-05-06T09:43:31.951279",
     "exception": false,
     "start_time": "2022-05-06T09:43:30.880163",
     "status": "completed"
    },
    "tags": []
   },
   "outputs": [
    {
     "data": {
      "text/html": [
       "<div>\n",
       "<style scoped>\n",
       "    .dataframe tbody tr th:only-of-type {\n",
       "        vertical-align: middle;\n",
       "    }\n",
       "\n",
       "    .dataframe tbody tr th {\n",
       "        vertical-align: top;\n",
       "    }\n",
       "\n",
       "    .dataframe thead th {\n",
       "        text-align: right;\n",
       "    }\n",
       "</style>\n",
       "<table border=\"1\" class=\"dataframe\">\n",
       "  <thead>\n",
       "    <tr style=\"text-align: right;\">\n",
       "      <th></th>\n",
       "      <th>date</th>\n",
       "      <th>date_block_num</th>\n",
       "      <th>shop_id</th>\n",
       "      <th>item_id</th>\n",
       "      <th>item_price</th>\n",
       "      <th>item_cnt_day</th>\n",
       "    </tr>\n",
       "  </thead>\n",
       "  <tbody>\n",
       "    <tr>\n",
       "      <th>0</th>\n",
       "      <td>02.01.2013</td>\n",
       "      <td>0</td>\n",
       "      <td>59</td>\n",
       "      <td>22154</td>\n",
       "      <td>999.00</td>\n",
       "      <td>1.0</td>\n",
       "    </tr>\n",
       "    <tr>\n",
       "      <th>1</th>\n",
       "      <td>03.01.2013</td>\n",
       "      <td>0</td>\n",
       "      <td>25</td>\n",
       "      <td>2552</td>\n",
       "      <td>899.00</td>\n",
       "      <td>1.0</td>\n",
       "    </tr>\n",
       "    <tr>\n",
       "      <th>2</th>\n",
       "      <td>05.01.2013</td>\n",
       "      <td>0</td>\n",
       "      <td>25</td>\n",
       "      <td>2552</td>\n",
       "      <td>899.00</td>\n",
       "      <td>-1.0</td>\n",
       "    </tr>\n",
       "    <tr>\n",
       "      <th>3</th>\n",
       "      <td>06.01.2013</td>\n",
       "      <td>0</td>\n",
       "      <td>25</td>\n",
       "      <td>2554</td>\n",
       "      <td>1709.05</td>\n",
       "      <td>1.0</td>\n",
       "    </tr>\n",
       "    <tr>\n",
       "      <th>4</th>\n",
       "      <td>15.01.2013</td>\n",
       "      <td>0</td>\n",
       "      <td>25</td>\n",
       "      <td>2555</td>\n",
       "      <td>1099.00</td>\n",
       "      <td>1.0</td>\n",
       "    </tr>\n",
       "  </tbody>\n",
       "</table>\n",
       "</div>"
      ],
      "text/plain": [
       "         date  date_block_num  shop_id  item_id  item_price  item_cnt_day\n",
       "0  02.01.2013               0       59    22154      999.00           1.0\n",
       "1  03.01.2013               0       25     2552      899.00           1.0\n",
       "2  05.01.2013               0       25     2552      899.00          -1.0\n",
       "3  06.01.2013               0       25     2554     1709.05           1.0\n",
       "4  15.01.2013               0       25     2555     1099.00           1.0"
      ]
     },
     "execution_count": 22,
     "metadata": {},
     "output_type": "execute_result"
    }
   ],
   "source": [
    "df_sales.drop_duplicates(keep='first', inplace=True, ignore_index=True)\n",
    "\n",
    "df_sales.head()"
   ]
  },
  {
   "cell_type": "code",
   "execution_count": 23,
   "id": "5caf3c30",
   "metadata": {
    "execution": {
     "iopub.execute_input": "2022-05-06T09:43:32.122534Z",
     "iopub.status.busy": "2022-05-06T09:43:32.121774Z",
     "iopub.status.idle": "2022-05-06T09:43:32.141980Z",
     "shell.execute_reply": "2022-05-06T09:43:32.141168Z"
    },
    "papermill": {
     "duration": 0.108169,
     "end_time": "2022-05-06T09:43:32.143966",
     "exception": false,
     "start_time": "2022-05-06T09:43:32.035797",
     "status": "completed"
    },
    "tags": []
   },
   "outputs": [
    {
     "data": {
      "text/html": [
       "<div>\n",
       "<style scoped>\n",
       "    .dataframe tbody tr th:only-of-type {\n",
       "        vertical-align: middle;\n",
       "    }\n",
       "\n",
       "    .dataframe tbody tr th {\n",
       "        vertical-align: top;\n",
       "    }\n",
       "\n",
       "    .dataframe thead th {\n",
       "        text-align: right;\n",
       "    }\n",
       "</style>\n",
       "<table border=\"1\" class=\"dataframe\">\n",
       "  <thead>\n",
       "    <tr style=\"text-align: right;\">\n",
       "      <th></th>\n",
       "      <th>date</th>\n",
       "      <th>date_block_num</th>\n",
       "      <th>shop_id</th>\n",
       "      <th>item_id</th>\n",
       "      <th>item_price</th>\n",
       "      <th>item_cnt_day</th>\n",
       "    </tr>\n",
       "  </thead>\n",
       "  <tbody>\n",
       "    <tr>\n",
       "      <th>484682</th>\n",
       "      <td>15.05.2013</td>\n",
       "      <td>4</td>\n",
       "      <td>32</td>\n",
       "      <td>2973</td>\n",
       "      <td>-1.0</td>\n",
       "      <td>1.0</td>\n",
       "    </tr>\n",
       "  </tbody>\n",
       "</table>\n",
       "</div>"
      ],
      "text/plain": [
       "              date  date_block_num  shop_id  item_id  item_price  item_cnt_day\n",
       "484682  15.05.2013               4       32     2973        -1.0           1.0"
      ]
     },
     "execution_count": 23,
     "metadata": {},
     "output_type": "execute_result"
    }
   ],
   "source": [
    "df_sales[df_sales['item_price'] <0]"
   ]
  },
  {
   "cell_type": "code",
   "execution_count": 24,
   "id": "606ff8ad",
   "metadata": {
    "execution": {
     "iopub.execute_input": "2022-05-06T09:43:32.314454Z",
     "iopub.status.busy": "2022-05-06T09:43:32.313944Z",
     "iopub.status.idle": "2022-05-06T09:43:32.853527Z",
     "shell.execute_reply": "2022-05-06T09:43:32.852424Z"
    },
    "papermill": {
     "duration": 0.627467,
     "end_time": "2022-05-06T09:43:32.855882",
     "exception": false,
     "start_time": "2022-05-06T09:43:32.228415",
     "status": "completed"
    },
    "tags": []
   },
   "outputs": [
    {
     "data": {
      "text/plain": [
       "(2928486, 6)"
      ]
     },
     "execution_count": 24,
     "metadata": {},
     "output_type": "execute_result"
    }
   ],
   "source": [
    "df_sales.drop(df_sales[df_sales['item_cnt_day'] <0].index , inplace=True)\n",
    "df_sales.drop(df_sales[df_sales['item_price'] <0].index , inplace=True)\n",
    "\n",
    "df_sales.shape"
   ]
  },
  {
   "cell_type": "markdown",
   "id": "7c39798b",
   "metadata": {
    "papermill": {
     "duration": 0.086221,
     "end_time": "2022-05-06T09:43:33.029820",
     "exception": false,
     "start_time": "2022-05-06T09:43:32.943599",
     "status": "completed"
    },
    "tags": []
   },
   "source": [
    "# **>  outliers removal**"
   ]
  },
  {
   "cell_type": "code",
   "execution_count": 25,
   "id": "c0f6c7fe",
   "metadata": {
    "execution": {
     "iopub.execute_input": "2022-05-06T09:43:33.208919Z",
     "iopub.status.busy": "2022-05-06T09:43:33.208646Z",
     "iopub.status.idle": "2022-05-06T09:43:33.712864Z",
     "shell.execute_reply": "2022-05-06T09:43:33.711798Z"
    },
    "papermill": {
     "duration": 0.596898,
     "end_time": "2022-05-06T09:43:33.715168",
     "exception": false,
     "start_time": "2022-05-06T09:43:33.118270",
     "status": "completed"
    },
    "tags": []
   },
   "outputs": [
    {
     "data": {
      "text/plain": [
       "(2670931, 6)"
      ]
     },
     "execution_count": 25,
     "metadata": {},
     "output_type": "execute_result"
    }
   ],
   "source": [
    "Q1 = np.percentile(df_sales['item_price'], 25.0)\n",
    "Q3 = np.percentile(df_sales['item_price'], 75.0)\n",
    "\n",
    "IQR = Q3 - Q1\n",
    "\n",
    "df_sub1 = df_sales[df_sales['item_price'] > Q3 + 1.5*IQR]\n",
    "df_sub2 = df_sales[df_sales['item_price'] < Q1 - 1.5*IQR]\n",
    "\n",
    "df_sales.drop(df_sub1.index, inplace=True)\n",
    "\n",
    "df_sales.shape"
   ]
  },
  {
   "cell_type": "code",
   "execution_count": 26,
   "id": "3fdbcdce",
   "metadata": {
    "execution": {
     "iopub.execute_input": "2022-05-06T09:43:33.890444Z",
     "iopub.status.busy": "2022-05-06T09:43:33.889434Z",
     "iopub.status.idle": "2022-05-06T09:43:33.912964Z",
     "shell.execute_reply": "2022-05-06T09:43:33.912034Z"
    },
    "papermill": {
     "duration": 0.112928,
     "end_time": "2022-05-06T09:43:33.915361",
     "exception": false,
     "start_time": "2022-05-06T09:43:33.802433",
     "status": "completed"
    },
    "tags": []
   },
   "outputs": [
    {
     "data": {
      "text/plain": [
       "array([ 0,  1,  2,  3,  4,  5,  6,  7,  8,  9, 10, 11, 12, 13, 14, 15, 16,\n",
       "       17, 18, 19, 20, 21, 22, 23, 24, 25, 26, 27, 28, 29, 30, 31, 32, 33])"
      ]
     },
     "execution_count": 26,
     "metadata": {},
     "output_type": "execute_result"
    }
   ],
   "source": [
    "df_sales['date_block_num'].unique()"
   ]
  },
  {
   "cell_type": "code",
   "execution_count": 27,
   "id": "09818c4d",
   "metadata": {
    "execution": {
     "iopub.execute_input": "2022-05-06T09:43:34.091790Z",
     "iopub.status.busy": "2022-05-06T09:43:34.091370Z",
     "iopub.status.idle": "2022-05-06T09:43:34.152923Z",
     "shell.execute_reply": "2022-05-06T09:43:34.152206Z"
    },
    "papermill": {
     "duration": 0.152015,
     "end_time": "2022-05-06T09:43:34.154754",
     "exception": false,
     "start_time": "2022-05-06T09:43:34.002739",
     "status": "completed"
    },
    "tags": []
   },
   "outputs": [
    {
     "data": {
      "text/plain": [
       "date_block_num\n",
       "0     10437.874241\n",
       "1     10094.739024\n",
       "2     10272.665975\n",
       "3     10491.197571\n",
       "4     10453.088679\n",
       "5     10453.211951\n",
       "6     10646.363618\n",
       "7     10215.190504\n",
       "8     10175.876895\n",
       "9     10614.346861\n",
       "10    10589.980521\n",
       "11    10410.177452\n",
       "12    10392.215130\n",
       "13     9976.254429\n",
       "14    10535.516754\n",
       "15    10861.633872\n",
       "16    10571.830409\n",
       "17    10490.160861\n",
       "18    10484.988244\n",
       "19    10369.118885\n",
       "20    10556.140961\n",
       "21    10772.814302\n",
       "22    10682.868015\n",
       "23    10822.272561\n",
       "24    10743.796818\n",
       "25    10853.609323\n",
       "26    11017.415613\n",
       "27    11087.856680\n",
       "28    10718.165604\n",
       "29    10674.438441\n",
       "30    11002.175358\n",
       "31    10389.431964\n",
       "32    10447.862064\n",
       "33    11430.368451\n",
       "Name: item_id, dtype: float64"
      ]
     },
     "execution_count": 27,
     "metadata": {},
     "output_type": "execute_result"
    }
   ],
   "source": [
    "df_sales.groupby('date_block_num')['item_id'].mean()"
   ]
  },
  {
   "cell_type": "code",
   "execution_count": 28,
   "id": "e7451922",
   "metadata": {
    "execution": {
     "iopub.execute_input": "2022-05-06T09:43:34.330869Z",
     "iopub.status.busy": "2022-05-06T09:43:34.330336Z",
     "iopub.status.idle": "2022-05-06T09:43:34.384354Z",
     "shell.execute_reply": "2022-05-06T09:43:34.383617Z"
    },
    "papermill": {
     "duration": 0.143813,
     "end_time": "2022-05-06T09:43:34.386358",
     "exception": false,
     "start_time": "2022-05-06T09:43:34.242545",
     "status": "completed"
    },
    "tags": []
   },
   "outputs": [
    {
     "name": "stdout",
     "output_type": "stream",
     "text": [
      "573.36\n"
     ]
    }
   ],
   "source": [
    "price = round(np.array(df_sales.groupby('date_block_num')['item_price'].mean()).mean(),2)\n",
    "print(price)"
   ]
  },
  {
   "cell_type": "code",
   "execution_count": 29,
   "id": "133499ff",
   "metadata": {
    "execution": {
     "iopub.execute_input": "2022-05-06T09:43:34.561765Z",
     "iopub.status.busy": "2022-05-06T09:43:34.561498Z",
     "iopub.status.idle": "2022-05-06T09:43:34.619182Z",
     "shell.execute_reply": "2022-05-06T09:43:34.618207Z"
    },
    "papermill": {
     "duration": 0.147121,
     "end_time": "2022-05-06T09:43:34.621477",
     "exception": false,
     "start_time": "2022-05-06T09:43:34.474356",
     "status": "completed"
    },
    "tags": []
   },
   "outputs": [
    {
     "data": {
      "text/plain": [
       "{0: 523.3136,\n",
       " 1: 530.6769,\n",
       " 2: 515.1063,\n",
       " 3: 507.681,\n",
       " 4: 500.4043,\n",
       " 5: 483.6083,\n",
       " 6: 475.9361,\n",
       " 7: 485.0816,\n",
       " 8: 530.7074,\n",
       " 9: 526.2786,\n",
       " 10: 553.5716,\n",
       " 11: 598.0684,\n",
       " 12: 560.4089,\n",
       " 13: 558.7864,\n",
       " 14: 548.9686,\n",
       " 15: 537.6172,\n",
       " 16: 527.4048,\n",
       " 17: 519.3315,\n",
       " 18: 525.0034,\n",
       " 19: 548.2421,\n",
       " 20: 606.8177,\n",
       " 21: 618.6799,\n",
       " 22: 611.0263,\n",
       " 23: 687.4857,\n",
       " 24: 646.9772,\n",
       " 25: 628.1663,\n",
       " 26: 611.3147,\n",
       " 27: 617.0509,\n",
       " 28: 660.2883,\n",
       " 29: 664.2991,\n",
       " 30: 634.8502,\n",
       " 31: 635.9069,\n",
       " 32: 657.6738,\n",
       " 33: 657.6354}"
      ]
     },
     "execution_count": 29,
     "metadata": {},
     "output_type": "execute_result"
    }
   ],
   "source": [
    "dict(round(df_sales.groupby('date_block_num')['item_price'].mean(),4))"
   ]
  },
  {
   "cell_type": "code",
   "execution_count": 30,
   "id": "b76f3599",
   "metadata": {
    "execution": {
     "iopub.execute_input": "2022-05-06T09:43:34.799573Z",
     "iopub.status.busy": "2022-05-06T09:43:34.799300Z",
     "iopub.status.idle": "2022-05-06T09:43:34.811742Z",
     "shell.execute_reply": "2022-05-06T09:43:34.810884Z"
    },
    "papermill": {
     "duration": 0.107051,
     "end_time": "2022-05-06T09:43:34.815138",
     "exception": false,
     "start_time": "2022-05-06T09:43:34.708087",
     "status": "completed"
    },
    "tags": []
   },
   "outputs": [
    {
     "data": {
      "text/html": [
       "<div>\n",
       "<style scoped>\n",
       "    .dataframe tbody tr th:only-of-type {\n",
       "        vertical-align: middle;\n",
       "    }\n",
       "\n",
       "    .dataframe tbody tr th {\n",
       "        vertical-align: top;\n",
       "    }\n",
       "\n",
       "    .dataframe thead th {\n",
       "        text-align: right;\n",
       "    }\n",
       "</style>\n",
       "<table border=\"1\" class=\"dataframe\">\n",
       "  <thead>\n",
       "    <tr style=\"text-align: right;\">\n",
       "      <th></th>\n",
       "      <th>date</th>\n",
       "      <th>date_block_num</th>\n",
       "      <th>shop_id</th>\n",
       "      <th>item_id</th>\n",
       "      <th>item_price</th>\n",
       "      <th>item_cnt_day</th>\n",
       "    </tr>\n",
       "  </thead>\n",
       "  <tbody>\n",
       "    <tr>\n",
       "      <th>0</th>\n",
       "      <td>02.01.2013</td>\n",
       "      <td>0</td>\n",
       "      <td>59</td>\n",
       "      <td>22154</td>\n",
       "      <td>999.00</td>\n",
       "      <td>1.0</td>\n",
       "    </tr>\n",
       "    <tr>\n",
       "      <th>1</th>\n",
       "      <td>03.01.2013</td>\n",
       "      <td>0</td>\n",
       "      <td>25</td>\n",
       "      <td>2552</td>\n",
       "      <td>899.00</td>\n",
       "      <td>1.0</td>\n",
       "    </tr>\n",
       "    <tr>\n",
       "      <th>3</th>\n",
       "      <td>06.01.2013</td>\n",
       "      <td>0</td>\n",
       "      <td>25</td>\n",
       "      <td>2554</td>\n",
       "      <td>1709.05</td>\n",
       "      <td>1.0</td>\n",
       "    </tr>\n",
       "    <tr>\n",
       "      <th>4</th>\n",
       "      <td>15.01.2013</td>\n",
       "      <td>0</td>\n",
       "      <td>25</td>\n",
       "      <td>2555</td>\n",
       "      <td>1099.00</td>\n",
       "      <td>1.0</td>\n",
       "    </tr>\n",
       "    <tr>\n",
       "      <th>5</th>\n",
       "      <td>10.01.2013</td>\n",
       "      <td>0</td>\n",
       "      <td>25</td>\n",
       "      <td>2564</td>\n",
       "      <td>349.00</td>\n",
       "      <td>1.0</td>\n",
       "    </tr>\n",
       "  </tbody>\n",
       "</table>\n",
       "</div>"
      ],
      "text/plain": [
       "         date  date_block_num  shop_id  item_id  item_price  item_cnt_day\n",
       "0  02.01.2013               0       59    22154      999.00           1.0\n",
       "1  03.01.2013               0       25     2552      899.00           1.0\n",
       "3  06.01.2013               0       25     2554     1709.05           1.0\n",
       "4  15.01.2013               0       25     2555     1099.00           1.0\n",
       "5  10.01.2013               0       25     2564      349.00           1.0"
      ]
     },
     "execution_count": 30,
     "metadata": {},
     "output_type": "execute_result"
    }
   ],
   "source": [
    "df_sales.head()"
   ]
  },
  {
   "cell_type": "code",
   "execution_count": 31,
   "id": "52f139d8",
   "metadata": {
    "execution": {
     "iopub.execute_input": "2022-05-06T09:43:35.000310Z",
     "iopub.status.busy": "2022-05-06T09:43:34.999703Z",
     "iopub.status.idle": "2022-05-06T09:43:35.010620Z",
     "shell.execute_reply": "2022-05-06T09:43:35.009592Z"
    },
    "papermill": {
     "duration": 0.105587,
     "end_time": "2022-05-06T09:43:35.012783",
     "exception": false,
     "start_time": "2022-05-06T09:43:34.907196",
     "status": "completed"
    },
    "tags": []
   },
   "outputs": [
    {
     "data": {
      "text/html": [
       "<div>\n",
       "<style scoped>\n",
       "    .dataframe tbody tr th:only-of-type {\n",
       "        vertical-align: middle;\n",
       "    }\n",
       "\n",
       "    .dataframe tbody tr th {\n",
       "        vertical-align: top;\n",
       "    }\n",
       "\n",
       "    .dataframe thead th {\n",
       "        text-align: right;\n",
       "    }\n",
       "</style>\n",
       "<table border=\"1\" class=\"dataframe\">\n",
       "  <thead>\n",
       "    <tr style=\"text-align: right;\">\n",
       "      <th></th>\n",
       "      <th>ID</th>\n",
       "      <th>shop_id</th>\n",
       "      <th>item_id</th>\n",
       "    </tr>\n",
       "  </thead>\n",
       "  <tbody>\n",
       "    <tr>\n",
       "      <th>0</th>\n",
       "      <td>0</td>\n",
       "      <td>5</td>\n",
       "      <td>5037</td>\n",
       "    </tr>\n",
       "    <tr>\n",
       "      <th>1</th>\n",
       "      <td>1</td>\n",
       "      <td>5</td>\n",
       "      <td>5320</td>\n",
       "    </tr>\n",
       "    <tr>\n",
       "      <th>2</th>\n",
       "      <td>2</td>\n",
       "      <td>5</td>\n",
       "      <td>5233</td>\n",
       "    </tr>\n",
       "    <tr>\n",
       "      <th>3</th>\n",
       "      <td>3</td>\n",
       "      <td>5</td>\n",
       "      <td>5232</td>\n",
       "    </tr>\n",
       "    <tr>\n",
       "      <th>4</th>\n",
       "      <td>4</td>\n",
       "      <td>5</td>\n",
       "      <td>5268</td>\n",
       "    </tr>\n",
       "  </tbody>\n",
       "</table>\n",
       "</div>"
      ],
      "text/plain": [
       "   ID  shop_id  item_id\n",
       "0   0        5     5037\n",
       "1   1        5     5320\n",
       "2   2        5     5233\n",
       "3   3        5     5232\n",
       "4   4        5     5268"
      ]
     },
     "execution_count": 31,
     "metadata": {},
     "output_type": "execute_result"
    }
   ],
   "source": [
    "df_test.head()"
   ]
  },
  {
   "cell_type": "markdown",
   "id": "c1c35082",
   "metadata": {
    "papermill": {
     "duration": 0.088054,
     "end_time": "2022-05-06T09:43:35.190639",
     "exception": false,
     "start_time": "2022-05-06T09:43:35.102585",
     "status": "completed"
    },
    "tags": []
   },
   "source": [
    "# Feature engineering"
   ]
  },
  {
   "cell_type": "markdown",
   "id": "2f5517a1",
   "metadata": {
    "papermill": {
     "duration": 0.088874,
     "end_time": "2022-05-06T09:43:35.370239",
     "exception": false,
     "start_time": "2022-05-06T09:43:35.281365",
     "status": "completed"
    },
    "tags": []
   },
   "source": [
    "#FE workflow"
   ]
  },
  {
   "cell_type": "markdown",
   "id": "1786a2ff",
   "metadata": {
    "papermill": {
     "duration": 0.087156,
     "end_time": "2022-05-06T09:43:35.544940",
     "exception": false,
     "start_time": "2022-05-06T09:43:35.457784",
     "status": "completed"
    },
    "tags": []
   },
   "source": [
    "> create columns with mean price by date block in train and test dataset, remove item price from train\n",
    "\n",
    "> remove data_ block column from train data set\n",
    "\n",
    "> create new cloumns with mean price per shop id for both train and test dataset\n",
    "\n",
    "> merge df_items table with train and test dataset on item id and create new column item category\n"
   ]
  },
  {
   "cell_type": "code",
   "execution_count": 32,
   "id": "c9d06d18",
   "metadata": {
    "execution": {
     "iopub.execute_input": "2022-05-06T09:43:35.721577Z",
     "iopub.status.busy": "2022-05-06T09:43:35.721146Z",
     "iopub.status.idle": "2022-05-06T09:43:35.774983Z",
     "shell.execute_reply": "2022-05-06T09:43:35.773953Z"
    },
    "papermill": {
     "duration": 0.145136,
     "end_time": "2022-05-06T09:43:35.777602",
     "exception": false,
     "start_time": "2022-05-06T09:43:35.632466",
     "status": "completed"
    },
    "tags": []
   },
   "outputs": [],
   "source": [
    "#df_sales.drop('mean_price_data_block', inplace=True, axis=1)\n",
    "\n",
    "replace_dict = dict(round(df_sales.groupby('date_block_num')['item_price'].mean(),2))"
   ]
  },
  {
   "cell_type": "code",
   "execution_count": 33,
   "id": "acd56904",
   "metadata": {
    "execution": {
     "iopub.execute_input": "2022-05-06T09:43:35.958120Z",
     "iopub.status.busy": "2022-05-06T09:43:35.957604Z",
     "iopub.status.idle": "2022-05-06T09:43:36.335140Z",
     "shell.execute_reply": "2022-05-06T09:43:36.334093Z"
    },
    "papermill": {
     "duration": 0.469719,
     "end_time": "2022-05-06T09:43:36.338340",
     "exception": false,
     "start_time": "2022-05-06T09:43:35.868621",
     "status": "completed"
    },
    "tags": []
   },
   "outputs": [
    {
     "data": {
      "text/html": [
       "<div>\n",
       "<style scoped>\n",
       "    .dataframe tbody tr th:only-of-type {\n",
       "        vertical-align: middle;\n",
       "    }\n",
       "\n",
       "    .dataframe tbody tr th {\n",
       "        vertical-align: top;\n",
       "    }\n",
       "\n",
       "    .dataframe thead th {\n",
       "        text-align: right;\n",
       "    }\n",
       "</style>\n",
       "<table border=\"1\" class=\"dataframe\">\n",
       "  <thead>\n",
       "    <tr style=\"text-align: right;\">\n",
       "      <th></th>\n",
       "      <th>mean_price_by_column</th>\n",
       "      <th>shop_id</th>\n",
       "      <th>item_id</th>\n",
       "      <th>item_cnt_day</th>\n",
       "    </tr>\n",
       "  </thead>\n",
       "  <tbody>\n",
       "    <tr>\n",
       "      <th>0</th>\n",
       "      <td>523.31</td>\n",
       "      <td>59</td>\n",
       "      <td>22154</td>\n",
       "      <td>1.0</td>\n",
       "    </tr>\n",
       "    <tr>\n",
       "      <th>1</th>\n",
       "      <td>523.31</td>\n",
       "      <td>25</td>\n",
       "      <td>2552</td>\n",
       "      <td>1.0</td>\n",
       "    </tr>\n",
       "    <tr>\n",
       "      <th>3</th>\n",
       "      <td>523.31</td>\n",
       "      <td>25</td>\n",
       "      <td>2554</td>\n",
       "      <td>1.0</td>\n",
       "    </tr>\n",
       "    <tr>\n",
       "      <th>4</th>\n",
       "      <td>523.31</td>\n",
       "      <td>25</td>\n",
       "      <td>2555</td>\n",
       "      <td>1.0</td>\n",
       "    </tr>\n",
       "    <tr>\n",
       "      <th>5</th>\n",
       "      <td>523.31</td>\n",
       "      <td>25</td>\n",
       "      <td>2564</td>\n",
       "      <td>1.0</td>\n",
       "    </tr>\n",
       "  </tbody>\n",
       "</table>\n",
       "</div>"
      ],
      "text/plain": [
       "   mean_price_by_column  shop_id  item_id  item_cnt_day\n",
       "0                523.31       59    22154           1.0\n",
       "1                523.31       25     2552           1.0\n",
       "3                523.31       25     2554           1.0\n",
       "4                523.31       25     2555           1.0\n",
       "5                523.31       25     2564           1.0"
      ]
     },
     "execution_count": 33,
     "metadata": {},
     "output_type": "execute_result"
    }
   ],
   "source": [
    "df_sales['date_block_num'] = df_sales['date_block_num'].replace(replace_dict)\n",
    "\n",
    "df_train = df_sales.copy()\n",
    "df_train.drop(['date','item_price'], axis=1, inplace=True)\n",
    "df_train.rename(columns = {'date_block_num':'mean_price_by_column'}, inplace=True)\n",
    "df_train.head()"
   ]
  },
  {
   "cell_type": "code",
   "execution_count": 34,
   "id": "fbf4b5c9",
   "metadata": {
    "execution": {
     "iopub.execute_input": "2022-05-06T09:43:36.537494Z",
     "iopub.status.busy": "2022-05-06T09:43:36.536929Z",
     "iopub.status.idle": "2022-05-06T09:43:36.613753Z",
     "shell.execute_reply": "2022-05-06T09:43:36.612955Z"
    },
    "papermill": {
     "duration": 0.183585,
     "end_time": "2022-05-06T09:43:36.615823",
     "exception": false,
     "start_time": "2022-05-06T09:43:36.432238",
     "status": "completed"
    },
    "tags": []
   },
   "outputs": [
    {
     "data": {
      "text/plain": [
       "573.3638104404596"
      ]
     },
     "execution_count": 34,
     "metadata": {},
     "output_type": "execute_result"
    }
   ],
   "source": [
    "mean_price = np.array(df_sales.groupby('date_block_num')['item_price'].mean()).mean()\n",
    "mean_price"
   ]
  },
  {
   "cell_type": "code",
   "execution_count": 35,
   "id": "d5f019ad",
   "metadata": {
    "execution": {
     "iopub.execute_input": "2022-05-06T09:43:36.803140Z",
     "iopub.status.busy": "2022-05-06T09:43:36.802839Z",
     "iopub.status.idle": "2022-05-06T09:43:36.808307Z",
     "shell.execute_reply": "2022-05-06T09:43:36.807460Z"
    },
    "papermill": {
     "duration": 0.103655,
     "end_time": "2022-05-06T09:43:36.810938",
     "exception": false,
     "start_time": "2022-05-06T09:43:36.707283",
     "status": "completed"
    },
    "tags": []
   },
   "outputs": [
    {
     "data": {
      "text/plain": [
       "(214200, 3)"
      ]
     },
     "execution_count": 35,
     "metadata": {},
     "output_type": "execute_result"
    }
   ],
   "source": [
    "df_test.shape"
   ]
  },
  {
   "cell_type": "code",
   "execution_count": 36,
   "id": "5ac33818",
   "metadata": {
    "execution": {
     "iopub.execute_input": "2022-05-06T09:43:37.004766Z",
     "iopub.status.busy": "2022-05-06T09:43:37.003304Z",
     "iopub.status.idle": "2022-05-06T09:43:37.011631Z",
     "shell.execute_reply": "2022-05-06T09:43:37.010414Z"
    },
    "papermill": {
     "duration": 0.109211,
     "end_time": "2022-05-06T09:43:37.013722",
     "exception": false,
     "start_time": "2022-05-06T09:43:36.904511",
     "status": "completed"
    },
    "tags": []
   },
   "outputs": [
    {
     "data": {
      "text/plain": [
       "(2670931, 4)"
      ]
     },
     "execution_count": 36,
     "metadata": {},
     "output_type": "execute_result"
    }
   ],
   "source": [
    "df_train.shape"
   ]
  },
  {
   "cell_type": "code",
   "execution_count": 37,
   "id": "43a0336c",
   "metadata": {
    "execution": {
     "iopub.execute_input": "2022-05-06T09:43:37.210547Z",
     "iopub.status.busy": "2022-05-06T09:43:37.209578Z",
     "iopub.status.idle": "2022-05-06T09:43:37.478423Z",
     "shell.execute_reply": "2022-05-06T09:43:37.477256Z"
    },
    "papermill": {
     "duration": 0.368921,
     "end_time": "2022-05-06T09:43:37.481684",
     "exception": false,
     "start_time": "2022-05-06T09:43:37.112763",
     "status": "completed"
    },
    "tags": []
   },
   "outputs": [],
   "source": [
    "#df_test.drop('ID', inplace=True, axis=1)\n",
    "df_test.head()\n",
    "com_df = pd.concat([df_train,df_test])\n",
    "\n",
    "com_df['mean_price_by_column'] = com_df['mean_price_by_column'].fillna(value=price)\n",
    "com_df['item_cnt_day'] = com_df['item_cnt_day'].fillna(value=0)\n",
    "\n",
    "test_df = com_df[com_df['item_cnt_day'] == 0]\n",
    "train_df = com_df[com_df['item_cnt_day'] != 0]"
   ]
  },
  {
   "cell_type": "code",
   "execution_count": 38,
   "id": "f766dba4",
   "metadata": {
    "execution": {
     "iopub.execute_input": "2022-05-06T09:43:37.678329Z",
     "iopub.status.busy": "2022-05-06T09:43:37.678049Z",
     "iopub.status.idle": "2022-05-06T09:43:37.682635Z",
     "shell.execute_reply": "2022-05-06T09:43:37.682064Z"
    },
    "papermill": {
     "duration": 0.104657,
     "end_time": "2022-05-06T09:43:37.685244",
     "exception": false,
     "start_time": "2022-05-06T09:43:37.580587",
     "status": "completed"
    },
    "tags": []
   },
   "outputs": [
    {
     "data": {
      "text/plain": [
       "(214200, 5)"
      ]
     },
     "execution_count": 38,
     "metadata": {},
     "output_type": "execute_result"
    }
   ],
   "source": [
    "test_df.shape"
   ]
  },
  {
   "cell_type": "code",
   "execution_count": 39,
   "id": "c76807b6",
   "metadata": {
    "execution": {
     "iopub.execute_input": "2022-05-06T09:43:37.886921Z",
     "iopub.status.busy": "2022-05-06T09:43:37.886418Z",
     "iopub.status.idle": "2022-05-06T09:43:37.905632Z",
     "shell.execute_reply": "2022-05-06T09:43:37.904917Z"
    },
    "papermill": {
     "duration": 0.1212,
     "end_time": "2022-05-06T09:43:37.907961",
     "exception": false,
     "start_time": "2022-05-06T09:43:37.786761",
     "status": "completed"
    },
    "tags": []
   },
   "outputs": [
    {
     "data": {
      "text/html": [
       "<div>\n",
       "<style scoped>\n",
       "    .dataframe tbody tr th:only-of-type {\n",
       "        vertical-align: middle;\n",
       "    }\n",
       "\n",
       "    .dataframe tbody tr th {\n",
       "        vertical-align: top;\n",
       "    }\n",
       "\n",
       "    .dataframe thead th {\n",
       "        text-align: right;\n",
       "    }\n",
       "</style>\n",
       "<table border=\"1\" class=\"dataframe\">\n",
       "  <thead>\n",
       "    <tr style=\"text-align: right;\">\n",
       "      <th></th>\n",
       "      <th>mean_price_by_column</th>\n",
       "      <th>shop_id</th>\n",
       "      <th>item_id</th>\n",
       "    </tr>\n",
       "  </thead>\n",
       "  <tbody>\n",
       "    <tr>\n",
       "      <th>0</th>\n",
       "      <td>573.36</td>\n",
       "      <td>5</td>\n",
       "      <td>5037</td>\n",
       "    </tr>\n",
       "    <tr>\n",
       "      <th>1</th>\n",
       "      <td>573.36</td>\n",
       "      <td>5</td>\n",
       "      <td>5320</td>\n",
       "    </tr>\n",
       "    <tr>\n",
       "      <th>2</th>\n",
       "      <td>573.36</td>\n",
       "      <td>5</td>\n",
       "      <td>5233</td>\n",
       "    </tr>\n",
       "    <tr>\n",
       "      <th>3</th>\n",
       "      <td>573.36</td>\n",
       "      <td>5</td>\n",
       "      <td>5232</td>\n",
       "    </tr>\n",
       "    <tr>\n",
       "      <th>4</th>\n",
       "      <td>573.36</td>\n",
       "      <td>5</td>\n",
       "      <td>5268</td>\n",
       "    </tr>\n",
       "    <tr>\n",
       "      <th>...</th>\n",
       "      <td>...</td>\n",
       "      <td>...</td>\n",
       "      <td>...</td>\n",
       "    </tr>\n",
       "    <tr>\n",
       "      <th>214195</th>\n",
       "      <td>573.36</td>\n",
       "      <td>45</td>\n",
       "      <td>18454</td>\n",
       "    </tr>\n",
       "    <tr>\n",
       "      <th>214196</th>\n",
       "      <td>573.36</td>\n",
       "      <td>45</td>\n",
       "      <td>16188</td>\n",
       "    </tr>\n",
       "    <tr>\n",
       "      <th>214197</th>\n",
       "      <td>573.36</td>\n",
       "      <td>45</td>\n",
       "      <td>15757</td>\n",
       "    </tr>\n",
       "    <tr>\n",
       "      <th>214198</th>\n",
       "      <td>573.36</td>\n",
       "      <td>45</td>\n",
       "      <td>19648</td>\n",
       "    </tr>\n",
       "    <tr>\n",
       "      <th>214199</th>\n",
       "      <td>573.36</td>\n",
       "      <td>45</td>\n",
       "      <td>969</td>\n",
       "    </tr>\n",
       "  </tbody>\n",
       "</table>\n",
       "<p>214200 rows × 3 columns</p>\n",
       "</div>"
      ],
      "text/plain": [
       "        mean_price_by_column  shop_id  item_id\n",
       "0                     573.36        5     5037\n",
       "1                     573.36        5     5320\n",
       "2                     573.36        5     5233\n",
       "3                     573.36        5     5232\n",
       "4                     573.36        5     5268\n",
       "...                      ...      ...      ...\n",
       "214195                573.36       45    18454\n",
       "214196                573.36       45    16188\n",
       "214197                573.36       45    15757\n",
       "214198                573.36       45    19648\n",
       "214199                573.36       45      969\n",
       "\n",
       "[214200 rows x 3 columns]"
      ]
     },
     "execution_count": 39,
     "metadata": {},
     "output_type": "execute_result"
    }
   ],
   "source": [
    "testdf = test_df.copy()\n",
    "\n",
    "testdf.drop('ID', inplace=True, axis=1)\n",
    "testdf.drop('item_cnt_day', inplace=True, axis=1)\n",
    "testdf"
   ]
  },
  {
   "cell_type": "code",
   "execution_count": 40,
   "id": "fa6b1577",
   "metadata": {
    "execution": {
     "iopub.execute_input": "2022-05-06T09:43:38.105308Z",
     "iopub.status.busy": "2022-05-06T09:43:38.104763Z",
     "iopub.status.idle": "2022-05-06T09:43:38.198126Z",
     "shell.execute_reply": "2022-05-06T09:43:38.197302Z"
    },
    "papermill": {
     "duration": 0.193077,
     "end_time": "2022-05-06T09:43:38.200657",
     "exception": false,
     "start_time": "2022-05-06T09:43:38.007580",
     "status": "completed"
    },
    "tags": []
   },
   "outputs": [],
   "source": [
    "traindf = train_df.copy()\n",
    "\n",
    "traindf.drop('ID', inplace=True, axis=1)"
   ]
  },
  {
   "cell_type": "code",
   "execution_count": 41,
   "id": "2856b56f",
   "metadata": {
    "execution": {
     "iopub.execute_input": "2022-05-06T09:43:38.402885Z",
     "iopub.status.busy": "2022-05-06T09:43:38.402479Z",
     "iopub.status.idle": "2022-05-06T09:43:38.412454Z",
     "shell.execute_reply": "2022-05-06T09:43:38.411900Z"
    },
    "papermill": {
     "duration": 0.112517,
     "end_time": "2022-05-06T09:43:38.414466",
     "exception": false,
     "start_time": "2022-05-06T09:43:38.301949",
     "status": "completed"
    },
    "tags": []
   },
   "outputs": [
    {
     "data": {
      "text/html": [
       "<div>\n",
       "<style scoped>\n",
       "    .dataframe tbody tr th:only-of-type {\n",
       "        vertical-align: middle;\n",
       "    }\n",
       "\n",
       "    .dataframe tbody tr th {\n",
       "        vertical-align: top;\n",
       "    }\n",
       "\n",
       "    .dataframe thead th {\n",
       "        text-align: right;\n",
       "    }\n",
       "</style>\n",
       "<table border=\"1\" class=\"dataframe\">\n",
       "  <thead>\n",
       "    <tr style=\"text-align: right;\">\n",
       "      <th></th>\n",
       "      <th>mean_price_by_column</th>\n",
       "      <th>shop_id</th>\n",
       "      <th>item_id</th>\n",
       "      <th>item_cnt_day</th>\n",
       "    </tr>\n",
       "  </thead>\n",
       "  <tbody>\n",
       "    <tr>\n",
       "      <th>0</th>\n",
       "      <td>523.31</td>\n",
       "      <td>59</td>\n",
       "      <td>22154</td>\n",
       "      <td>1.0</td>\n",
       "    </tr>\n",
       "    <tr>\n",
       "      <th>1</th>\n",
       "      <td>523.31</td>\n",
       "      <td>25</td>\n",
       "      <td>2552</td>\n",
       "      <td>1.0</td>\n",
       "    </tr>\n",
       "    <tr>\n",
       "      <th>3</th>\n",
       "      <td>523.31</td>\n",
       "      <td>25</td>\n",
       "      <td>2554</td>\n",
       "      <td>1.0</td>\n",
       "    </tr>\n",
       "    <tr>\n",
       "      <th>4</th>\n",
       "      <td>523.31</td>\n",
       "      <td>25</td>\n",
       "      <td>2555</td>\n",
       "      <td>1.0</td>\n",
       "    </tr>\n",
       "    <tr>\n",
       "      <th>5</th>\n",
       "      <td>523.31</td>\n",
       "      <td>25</td>\n",
       "      <td>2564</td>\n",
       "      <td>1.0</td>\n",
       "    </tr>\n",
       "  </tbody>\n",
       "</table>\n",
       "</div>"
      ],
      "text/plain": [
       "   mean_price_by_column  shop_id  item_id  item_cnt_day\n",
       "0                523.31       59    22154           1.0\n",
       "1                523.31       25     2552           1.0\n",
       "3                523.31       25     2554           1.0\n",
       "4                523.31       25     2555           1.0\n",
       "5                523.31       25     2564           1.0"
      ]
     },
     "execution_count": 41,
     "metadata": {},
     "output_type": "execute_result"
    }
   ],
   "source": [
    "traindf.head()"
   ]
  },
  {
   "cell_type": "markdown",
   "id": "9b8c84da",
   "metadata": {
    "papermill": {
     "duration": 0.09041,
     "end_time": "2022-05-06T09:43:38.595522",
     "exception": false,
     "start_time": "2022-05-06T09:43:38.505112",
     "status": "completed"
    },
    "tags": []
   },
   "source": [
    "# >train data and test data for modelling and evalution"
   ]
  },
  {
   "cell_type": "code",
   "execution_count": 42,
   "id": "b3bcfc37",
   "metadata": {
    "execution": {
     "iopub.execute_input": "2022-05-06T09:43:38.778967Z",
     "iopub.status.busy": "2022-05-06T09:43:38.778612Z",
     "iopub.status.idle": "2022-05-06T09:43:38.793660Z",
     "shell.execute_reply": "2022-05-06T09:43:38.793036Z"
    },
    "papermill": {
     "duration": 0.109813,
     "end_time": "2022-05-06T09:43:38.795639",
     "exception": false,
     "start_time": "2022-05-06T09:43:38.685826",
     "status": "completed"
    },
    "tags": []
   },
   "outputs": [
    {
     "data": {
      "text/html": [
       "<div>\n",
       "<style scoped>\n",
       "    .dataframe tbody tr th:only-of-type {\n",
       "        vertical-align: middle;\n",
       "    }\n",
       "\n",
       "    .dataframe tbody tr th {\n",
       "        vertical-align: top;\n",
       "    }\n",
       "\n",
       "    .dataframe thead th {\n",
       "        text-align: right;\n",
       "    }\n",
       "</style>\n",
       "<table border=\"1\" class=\"dataframe\">\n",
       "  <thead>\n",
       "    <tr style=\"text-align: right;\">\n",
       "      <th></th>\n",
       "      <th>mean_price_by_column</th>\n",
       "      <th>shop_id</th>\n",
       "      <th>item_id</th>\n",
       "    </tr>\n",
       "  </thead>\n",
       "  <tbody>\n",
       "    <tr>\n",
       "      <th>0</th>\n",
       "      <td>573.36</td>\n",
       "      <td>5</td>\n",
       "      <td>-0.956779</td>\n",
       "    </tr>\n",
       "    <tr>\n",
       "      <th>1</th>\n",
       "      <td>573.36</td>\n",
       "      <td>5</td>\n",
       "      <td>-0.911518</td>\n",
       "    </tr>\n",
       "    <tr>\n",
       "      <th>2</th>\n",
       "      <td>573.36</td>\n",
       "      <td>5</td>\n",
       "      <td>-0.925432</td>\n",
       "    </tr>\n",
       "    <tr>\n",
       "      <th>3</th>\n",
       "      <td>573.36</td>\n",
       "      <td>5</td>\n",
       "      <td>-0.925592</td>\n",
       "    </tr>\n",
       "    <tr>\n",
       "      <th>4</th>\n",
       "      <td>573.36</td>\n",
       "      <td>5</td>\n",
       "      <td>-0.919835</td>\n",
       "    </tr>\n",
       "  </tbody>\n",
       "</table>\n",
       "</div>"
      ],
      "text/plain": [
       "   mean_price_by_column  shop_id   item_id\n",
       "0                573.36        5 -0.956779\n",
       "1                573.36        5 -0.911518\n",
       "2                573.36        5 -0.925432\n",
       "3                573.36        5 -0.925592\n",
       "4                573.36        5 -0.919835"
      ]
     },
     "execution_count": 42,
     "metadata": {},
     "output_type": "execute_result"
    }
   ],
   "source": [
    "#test_df.drop('item_cnt_day', inplace=True, axis=1)\n",
    "testdf['item_id'] = (testdf['item_id'] - testdf['item_id'].mean())/testdf['item_id'].std()\n",
    "testdf.head()"
   ]
  },
  {
   "cell_type": "code",
   "execution_count": 43,
   "id": "7b86c5b4",
   "metadata": {
    "execution": {
     "iopub.execute_input": "2022-05-06T09:43:38.979752Z",
     "iopub.status.busy": "2022-05-06T09:43:38.979258Z",
     "iopub.status.idle": "2022-05-06T09:43:39.033521Z",
     "shell.execute_reply": "2022-05-06T09:43:39.032604Z"
    },
    "papermill": {
     "duration": 0.149304,
     "end_time": "2022-05-06T09:43:39.035820",
     "exception": false,
     "start_time": "2022-05-06T09:43:38.886516",
     "status": "completed"
    },
    "tags": []
   },
   "outputs": [
    {
     "data": {
      "text/html": [
       "<div>\n",
       "<style scoped>\n",
       "    .dataframe tbody tr th:only-of-type {\n",
       "        vertical-align: middle;\n",
       "    }\n",
       "\n",
       "    .dataframe tbody tr th {\n",
       "        vertical-align: top;\n",
       "    }\n",
       "\n",
       "    .dataframe thead th {\n",
       "        text-align: right;\n",
       "    }\n",
       "</style>\n",
       "<table border=\"1\" class=\"dataframe\">\n",
       "  <thead>\n",
       "    <tr style=\"text-align: right;\">\n",
       "      <th></th>\n",
       "      <th>mean_price_by_column</th>\n",
       "      <th>shop_id</th>\n",
       "      <th>item_id</th>\n",
       "      <th>item_cnt_day</th>\n",
       "    </tr>\n",
       "  </thead>\n",
       "  <tbody>\n",
       "    <tr>\n",
       "      <th>0</th>\n",
       "      <td>523.31</td>\n",
       "      <td>59</td>\n",
       "      <td>1.830655</td>\n",
       "      <td>1.0</td>\n",
       "    </tr>\n",
       "    <tr>\n",
       "      <th>1</th>\n",
       "      <td>523.31</td>\n",
       "      <td>25</td>\n",
       "      <td>-1.258324</td>\n",
       "      <td>1.0</td>\n",
       "    </tr>\n",
       "    <tr>\n",
       "      <th>3</th>\n",
       "      <td>523.31</td>\n",
       "      <td>25</td>\n",
       "      <td>-1.258009</td>\n",
       "      <td>1.0</td>\n",
       "    </tr>\n",
       "    <tr>\n",
       "      <th>4</th>\n",
       "      <td>523.31</td>\n",
       "      <td>25</td>\n",
       "      <td>-1.257852</td>\n",
       "      <td>1.0</td>\n",
       "    </tr>\n",
       "    <tr>\n",
       "      <th>5</th>\n",
       "      <td>523.31</td>\n",
       "      <td>25</td>\n",
       "      <td>-1.256433</td>\n",
       "      <td>1.0</td>\n",
       "    </tr>\n",
       "  </tbody>\n",
       "</table>\n",
       "</div>"
      ],
      "text/plain": [
       "   mean_price_by_column  shop_id   item_id  item_cnt_day\n",
       "0                523.31       59  1.830655           1.0\n",
       "1                523.31       25 -1.258324           1.0\n",
       "3                523.31       25 -1.258009           1.0\n",
       "4                523.31       25 -1.257852           1.0\n",
       "5                523.31       25 -1.256433           1.0"
      ]
     },
     "execution_count": 43,
     "metadata": {},
     "output_type": "execute_result"
    }
   ],
   "source": [
    "traindf['item_id'] = (traindf['item_id'] - traindf['item_id'].mean())/traindf['item_id'].std()\n",
    "traindf.head()"
   ]
  },
  {
   "cell_type": "markdown",
   "id": "be35d8bf",
   "metadata": {
    "papermill": {
     "duration": 0.091485,
     "end_time": "2022-05-06T09:43:39.219991",
     "exception": false,
     "start_time": "2022-05-06T09:43:39.128506",
     "status": "completed"
    },
    "tags": []
   },
   "source": [
    "# Model 1 "
   ]
  },
  {
   "cell_type": "code",
   "execution_count": 44,
   "id": "e8c6b41b",
   "metadata": {
    "execution": {
     "iopub.execute_input": "2022-05-06T09:43:39.405895Z",
     "iopub.status.busy": "2022-05-06T09:43:39.405402Z",
     "iopub.status.idle": "2022-05-06T09:43:39.487839Z",
     "shell.execute_reply": "2022-05-06T09:43:39.486556Z"
    },
    "papermill": {
     "duration": 0.178504,
     "end_time": "2022-05-06T09:43:39.490208",
     "exception": false,
     "start_time": "2022-05-06T09:43:39.311704",
     "status": "completed"
    },
    "tags": []
   },
   "outputs": [],
   "source": [
    "X = traindf.loc[:,['mean_price_by_column','shop_id','item_id']]\n",
    "y = traindf.loc[:,'item_cnt_day']"
   ]
  },
  {
   "cell_type": "code",
   "execution_count": 45,
   "id": "872f8930",
   "metadata": {
    "execution": {
     "iopub.execute_input": "2022-05-06T09:43:39.680246Z",
     "iopub.status.busy": "2022-05-06T09:43:39.679669Z",
     "iopub.status.idle": "2022-05-06T09:43:40.519890Z",
     "shell.execute_reply": "2022-05-06T09:43:40.518478Z"
    },
    "papermill": {
     "duration": 0.938522,
     "end_time": "2022-05-06T09:43:40.523944",
     "exception": false,
     "start_time": "2022-05-06T09:43:39.585422",
     "status": "completed"
    },
    "tags": []
   },
   "outputs": [
    {
     "name": "stdout",
     "output_type": "stream",
     "text": [
      "regression coefficients are:  [ 0.00052884 -0.00073067  0.06059091]\n",
      "MSE:  3.568506908593113\n",
      "MAE:  0.4151444070506008\n",
      "R2:  0.001130854051605401\n"
     ]
    }
   ],
   "source": [
    "X_train, X_valid, y_train, y_valid = train_test_split(X, y,train_size=0.8, random_state= 42)\n",
    "\n",
    "model1 = LinearRegression()\n",
    "\n",
    "model1.fit(X_train,y_train)\n",
    "\n",
    "print(\"regression coefficients are: \" , model1.coef_)\n",
    "\n",
    "y_pred = model1.predict(X_valid)\n",
    "\n",
    "\n",
    "MSE = mean_squared_error(y_valid,y_pred)\n",
    "MAE = mean_absolute_error(y_valid,y_pred)\n",
    "R2  = r2_score(y_valid,y_pred)\n",
    "\n",
    "print(\"MSE: \", MSE)\n",
    "print(\"MAE: \", MAE)\n",
    "print(\"R2: \", R2)"
   ]
  },
  {
   "cell_type": "code",
   "execution_count": 46,
   "id": "b15f05fe",
   "metadata": {
    "execution": {
     "iopub.execute_input": "2022-05-06T09:43:40.770827Z",
     "iopub.status.busy": "2022-05-06T09:43:40.770552Z",
     "iopub.status.idle": "2022-05-06T09:43:40.774423Z",
     "shell.execute_reply": "2022-05-06T09:43:40.773526Z"
    },
    "papermill": {
     "duration": 0.107191,
     "end_time": "2022-05-06T09:43:40.776545",
     "exception": false,
     "start_time": "2022-05-06T09:43:40.669354",
     "status": "completed"
    },
    "tags": []
   },
   "outputs": [],
   "source": [
    "#model_sub_pred = model1.predict(testdf)\n",
    "\n",
    "#sub_df = pd.DataFrame(data= {'ID':np.array(df_test['ID']),'item_cnt_month':model_sub_pred})\n",
    "\n",
    "#sub_df.to_csv('submission.csv', index=False)"
   ]
  },
  {
   "cell_type": "markdown",
   "id": "acdd807b",
   "metadata": {
    "papermill": {
     "duration": 0.093198,
     "end_time": "2022-05-06T09:43:40.964368",
     "exception": false,
     "start_time": "2022-05-06T09:43:40.871170",
     "status": "completed"
    },
    "tags": []
   },
   "source": [
    "# Model 2"
   ]
  },
  {
   "cell_type": "code",
   "execution_count": 47,
   "id": "2216f886",
   "metadata": {
    "execution": {
     "iopub.execute_input": "2022-05-06T09:43:41.155030Z",
     "iopub.status.busy": "2022-05-06T09:43:41.154714Z",
     "iopub.status.idle": "2022-05-06T09:43:42.142468Z",
     "shell.execute_reply": "2022-05-06T09:43:42.141466Z"
    },
    "papermill": {
     "duration": 1.086622,
     "end_time": "2022-05-06T09:43:42.146265",
     "exception": false,
     "start_time": "2022-05-06T09:43:41.059643",
     "status": "completed"
    },
    "tags": []
   },
   "outputs": [
    {
     "name": "stdout",
     "output_type": "stream",
     "text": [
      "Model coeffieciants:  mean_price_by_column    0.002133\n",
      "shop_id                 0.000527\n",
      "item_id                 0.057814\n",
      "dtype: float64\n",
      "\n",
      "Model summary:                            Results: Ordinary least squares\n",
      "===================================================================================\n",
      "Model:                  OLS              Adj. R-squared (uncentered): 0.167        \n",
      "Dependent Variable:     item_cnt_day     AIC:                         10381917.0297\n",
      "Date:                   2022-05-06 09:43 BIC:                         10381954.7540\n",
      "No. Observations:       2136744          Log-Likelihood:              -5.1910e+06  \n",
      "Df Model:               3                F-statistic:                 1.424e+05    \n",
      "Df Residuals:           2136741          Prob (F-statistic):          0.00         \n",
      "R-squared (uncentered): 0.167            Scale:                       7.5449       \n",
      "--------------------------------------------------------------------------------------\n",
      "                          Coef.     Std.Err.       t        P>|t|     [0.025    0.975]\n",
      "--------------------------------------------------------------------------------------\n",
      "mean_price_by_column      0.0021      0.0000    289.6293    0.0000    0.0021    0.0021\n",
      "shop_id                   0.0005      0.0001      4.6587    0.0000    0.0003    0.0007\n",
      "item_id                   0.0578      0.0019     30.7565    0.0000    0.0541    0.0615\n",
      "-----------------------------------------------------------------------------------\n",
      "Omnibus:              11861885.649      Durbin-Watson:         2.000               \n",
      "Prob(Omnibus):        0.000             Jarque-Bera (JB):      3579175024814133.000\n",
      "Skew:                 314.601           Prob(JB):              0.000               \n",
      "Kurtosis:             200504.998        Condition No.:         568                 \n",
      "===================================================================================\n",
      "\n"
     ]
    }
   ],
   "source": [
    "#using statsmodel api\n",
    "\n",
    "stats_model = sm.OLS(y_train, X_train)\n",
    "stat_fit = stats_model.fit()\n",
    "print(\"Model coeffieciants: \", stat_fit.params)\n",
    "\n",
    "print(\"\\nModel summary: \", stat_fit.summary2())"
   ]
  },
  {
   "cell_type": "markdown",
   "id": "37a9a0da",
   "metadata": {
    "papermill": {
     "duration": 0.094529,
     "end_time": "2022-05-06T09:43:42.365218",
     "exception": false,
     "start_time": "2022-05-06T09:43:42.270689",
     "status": "completed"
    },
    "tags": []
   },
   "source": [
    "> P value is less than 0.05 indicates that model is statistically significant\n",
    "\n",
    "> F-stat is also very low\n",
    "\n",
    "> R2 is almost 17%, that explains independent variables explain 17% of variation in dependent variable item count"
   ]
  },
  {
   "cell_type": "markdown",
   "id": "42b2f146",
   "metadata": {
    "papermill": {
     "duration": 0.094179,
     "end_time": "2022-05-06T09:43:42.552716",
     "exception": false,
     "start_time": "2022-05-06T09:43:42.458537",
     "status": "completed"
    },
    "tags": []
   },
   "source": [
    "# > Residual analysis"
   ]
  },
  {
   "cell_type": "code",
   "execution_count": 48,
   "id": "c25a65dc",
   "metadata": {
    "execution": {
     "iopub.execute_input": "2022-05-06T09:43:42.741188Z",
     "iopub.status.busy": "2022-05-06T09:43:42.740310Z",
     "iopub.status.idle": "2022-05-06T09:43:47.042385Z",
     "shell.execute_reply": "2022-05-06T09:43:47.041108Z"
    },
    "papermill": {
     "duration": 4.39874,
     "end_time": "2022-05-06T09:43:47.044664",
     "exception": false,
     "start_time": "2022-05-06T09:43:42.645924",
     "status": "completed"
    },
    "tags": []
   },
   "outputs": [
    {
     "data": {
      "text/plain": [
       "<Figure size 576x576 with 0 Axes>"
      ]
     },
     "metadata": {},
     "output_type": "display_data"
    },
    {
     "data": {
      "image/png": "[encoded data removed]",
      "text/plain": [
       "<Figure size 432x288 with 1 Axes>"
      ]
     },
     "metadata": {
      "needs_background": "light"
     },
     "output_type": "display_data"
    }
   ],
   "source": [
    "model_residual = stat_fit.resid\n",
    "probplot = sm.ProbPlot(model_residual)\n",
    "plt.figure(figsize=(8,8))\n",
    "probplot.ppplot(line = '45')\n",
    "plt.title(\"Rsidual analysis of model 2\")\n",
    "plt.show()"
   ]
  },
  {
   "cell_type": "markdown",
   "id": "99fcd378",
   "metadata": {
    "papermill": {
     "duration": 0.095425,
     "end_time": "2022-05-06T09:43:47.236274",
     "exception": false,
     "start_time": "2022-05-06T09:43:47.140849",
     "status": "completed"
    },
    "tags": []
   },
   "source": [
    "> theoritical probabilties and sample probabilities are not corellating with each other, it implies that resdiuls are not folloewing normal distribution.\n",
    "\n",
    "> model is not a good fit to data as data is polynomial."
   ]
  },
  {
   "cell_type": "markdown",
   "id": "384a105c",
   "metadata": {
    "papermill": {
     "duration": 0.099418,
     "end_time": "2022-05-06T09:43:47.435503",
     "exception": false,
     "start_time": "2022-05-06T09:43:47.336085",
     "status": "completed"
    },
    "tags": []
   },
   "source": [
    "# > Test of Homoscedasticity"
   ]
  },
  {
   "cell_type": "code",
   "execution_count": 49,
   "id": "363f09d3",
   "metadata": {
    "execution": {
     "iopub.execute_input": "2022-05-06T09:43:47.627954Z",
     "iopub.status.busy": "2022-05-06T09:43:47.627680Z",
     "iopub.status.idle": "2022-05-06T09:43:51.674792Z",
     "shell.execute_reply": "2022-05-06T09:43:51.673234Z"
    },
    "papermill": {
     "duration": 4.146672,
     "end_time": "2022-05-06T09:43:51.677402",
     "exception": false,
     "start_time": "2022-05-06T09:43:47.530730",
     "status": "completed"
    },
    "tags": []
   },
   "outputs": [
    {
     "data": {
      "image/png": "[encoded data removed]",
      "text/plain": [
       "<Figure size 576x576 with 1 Axes>"
      ]
     },
     "metadata": {
      "needs_background": "light"
     },
     "output_type": "display_data"
    }
   ],
   "source": [
    "def get_std_val(vals):\n",
    "    return (vals - vals.mean())/vals.std()\n",
    "\n",
    "plt.figure(figsize=(8,8))\n",
    "plt.scatter(get_std_val(stat_fit.fittedvalues), get_std_val(model_residual))\n",
    "plt.title(\"Residual plot\")\n",
    "plt.xlabel(\"predicted values\")\n",
    "plt.ylabel(\"Residuals\")\n",
    "plt.show()"
   ]
  },
  {
   "cell_type": "markdown",
   "id": "d630b15b",
   "metadata": {
    "papermill": {
     "duration": 0.100117,
     "end_time": "2022-05-06T09:43:51.881544",
     "exception": false,
     "start_time": "2022-05-06T09:43:51.781427",
     "status": "completed"
    },
    "tags": []
   },
   "source": [
    "> There is a clear funnel shape is observed and we can see that there is couple of outliers in actual values of y."
   ]
  },
  {
   "cell_type": "markdown",
   "id": "b2e891ec",
   "metadata": {
    "papermill": {
     "duration": 0.097849,
     "end_time": "2022-05-06T09:43:52.075832",
     "exception": false,
     "start_time": "2022-05-06T09:43:51.977983",
     "status": "completed"
    },
    "tags": []
   },
   "source": [
    "# > Outlier analysis"
   ]
  },
  {
   "cell_type": "code",
   "execution_count": 50,
   "id": "8680a05e",
   "metadata": {
    "execution": {
     "iopub.execute_input": "2022-05-06T09:43:52.271461Z",
     "iopub.status.busy": "2022-05-06T09:43:52.270937Z",
     "iopub.status.idle": "2022-05-06T09:43:52.318713Z",
     "shell.execute_reply": "2022-05-06T09:43:52.318028Z"
    },
    "papermill": {
     "duration": 0.148947,
     "end_time": "2022-05-06T09:43:52.320997",
     "exception": false,
     "start_time": "2022-05-06T09:43:52.172050",
     "status": "completed"
    },
    "tags": []
   },
   "outputs": [],
   "source": [
    "traindf['z_score_item'] = zscore(traindf['item_cnt_day'])"
   ]
  },
  {
   "cell_type": "code",
   "execution_count": 51,
   "id": "26781c2e",
   "metadata": {
    "execution": {
     "iopub.execute_input": "2022-05-06T09:43:52.517094Z",
     "iopub.status.busy": "2022-05-06T09:43:52.516598Z",
     "iopub.status.idle": "2022-05-06T09:43:52.609977Z",
     "shell.execute_reply": "2022-05-06T09:43:52.608993Z"
    },
    "papermill": {
     "duration": 0.193433,
     "end_time": "2022-05-06T09:43:52.611977",
     "exception": false,
     "start_time": "2022-05-06T09:43:52.418544",
     "status": "completed"
    },
    "tags": []
   },
   "outputs": [
    {
     "data": {
      "text/html": [
       "<div>\n",
       "<style scoped>\n",
       "    .dataframe tbody tr th:only-of-type {\n",
       "        vertical-align: middle;\n",
       "    }\n",
       "\n",
       "    .dataframe tbody tr th {\n",
       "        vertical-align: top;\n",
       "    }\n",
       "\n",
       "    .dataframe thead th {\n",
       "        text-align: right;\n",
       "    }\n",
       "</style>\n",
       "<table border=\"1\" class=\"dataframe\">\n",
       "  <thead>\n",
       "    <tr style=\"text-align: right;\">\n",
       "      <th></th>\n",
       "      <th>mean_price_by_column</th>\n",
       "      <th>shop_id</th>\n",
       "      <th>item_id</th>\n",
       "      <th>item_cnt_day</th>\n",
       "      <th>z_score_item</th>\n",
       "    </tr>\n",
       "  </thead>\n",
       "  <tbody>\n",
       "    <tr>\n",
       "      <th>404</th>\n",
       "      <td>523.31</td>\n",
       "      <td>25</td>\n",
       "      <td>-1.192139</td>\n",
       "      <td>13.0</td>\n",
       "      <td>4.531269</td>\n",
       "    </tr>\n",
       "    <tr>\n",
       "      <th>4173</th>\n",
       "      <td>523.31</td>\n",
       "      <td>25</td>\n",
       "      <td>0.642150</td>\n",
       "      <td>10.0</td>\n",
       "      <td>3.376277</td>\n",
       "    </tr>\n",
       "    <tr>\n",
       "      <th>4230</th>\n",
       "      <td>523.31</td>\n",
       "      <td>25</td>\n",
       "      <td>0.443908</td>\n",
       "      <td>10.0</td>\n",
       "      <td>3.376277</td>\n",
       "    </tr>\n",
       "    <tr>\n",
       "      <th>5410</th>\n",
       "      <td>523.31</td>\n",
       "      <td>25</td>\n",
       "      <td>0.931791</td>\n",
       "      <td>11.0</td>\n",
       "      <td>3.761274</td>\n",
       "    </tr>\n",
       "    <tr>\n",
       "      <th>5415</th>\n",
       "      <td>523.31</td>\n",
       "      <td>25</td>\n",
       "      <td>0.931791</td>\n",
       "      <td>10.0</td>\n",
       "      <td>3.376277</td>\n",
       "    </tr>\n",
       "    <tr>\n",
       "      <th>...</th>\n",
       "      <td>...</td>\n",
       "      <td>...</td>\n",
       "      <td>...</td>\n",
       "      <td>...</td>\n",
       "      <td>...</td>\n",
       "    </tr>\n",
       "    <tr>\n",
       "      <th>2935356</th>\n",
       "      <td>657.64</td>\n",
       "      <td>25</td>\n",
       "      <td>-0.052957</td>\n",
       "      <td>79.0</td>\n",
       "      <td>29.941082</td>\n",
       "    </tr>\n",
       "    <tr>\n",
       "      <th>2935357</th>\n",
       "      <td>657.64</td>\n",
       "      <td>25</td>\n",
       "      <td>-0.052957</td>\n",
       "      <td>26.0</td>\n",
       "      <td>9.536232</td>\n",
       "    </tr>\n",
       "    <tr>\n",
       "      <th>2935358</th>\n",
       "      <td>657.64</td>\n",
       "      <td>25</td>\n",
       "      <td>-0.052957</td>\n",
       "      <td>17.0</td>\n",
       "      <td>6.071257</td>\n",
       "    </tr>\n",
       "    <tr>\n",
       "      <th>2935371</th>\n",
       "      <td>657.64</td>\n",
       "      <td>25</td>\n",
       "      <td>-0.052800</td>\n",
       "      <td>34.0</td>\n",
       "      <td>12.616209</td>\n",
       "    </tr>\n",
       "    <tr>\n",
       "      <th>2935373</th>\n",
       "      <td>657.64</td>\n",
       "      <td>25</td>\n",
       "      <td>-0.052800</td>\n",
       "      <td>15.0</td>\n",
       "      <td>5.301263</td>\n",
       "    </tr>\n",
       "  </tbody>\n",
       "</table>\n",
       "<p>9971 rows × 5 columns</p>\n",
       "</div>"
      ],
      "text/plain": [
       "         mean_price_by_column  shop_id   item_id  item_cnt_day  z_score_item\n",
       "404                    523.31       25 -1.192139          13.0      4.531269\n",
       "4173                   523.31       25  0.642150          10.0      3.376277\n",
       "4230                   523.31       25  0.443908          10.0      3.376277\n",
       "5410                   523.31       25  0.931791          11.0      3.761274\n",
       "5415                   523.31       25  0.931791          10.0      3.376277\n",
       "...                       ...      ...       ...           ...           ...\n",
       "2935356                657.64       25 -0.052957          79.0     29.941082\n",
       "2935357                657.64       25 -0.052957          26.0      9.536232\n",
       "2935358                657.64       25 -0.052957          17.0      6.071257\n",
       "2935371                657.64       25 -0.052800          34.0     12.616209\n",
       "2935373                657.64       25 -0.052800          15.0      5.301263\n",
       "\n",
       "[9971 rows x 5 columns]"
      ]
     },
     "execution_count": 51,
     "metadata": {},
     "output_type": "execute_result"
    }
   ],
   "source": [
    "#outliears in y variable\n",
    "\n",
    "traindf[(traindf['z_score_item'] > 3.0) | (traindf['z_score_item'] < -3.0)]"
   ]
  },
  {
   "cell_type": "markdown",
   "id": "107f5e00",
   "metadata": {
    "papermill": {
     "duration": 0.095289,
     "end_time": "2022-05-06T09:43:52.803618",
     "exception": false,
     "start_time": "2022-05-06T09:43:52.708329",
     "status": "completed"
    },
    "tags": []
   },
   "source": [
    "> Total 9971 rows are having extream item sales which resulted in higher residuals"
   ]
  },
  {
   "cell_type": "markdown",
   "id": "146590da",
   "metadata": {
    "papermill": {
     "duration": 0.097913,
     "end_time": "2022-05-06T09:43:52.996967",
     "exception": false,
     "start_time": "2022-05-06T09:43:52.899054",
     "status": "completed"
    },
    "tags": []
   },
   "source": [
    "# > Cook's distance"
   ]
  },
  {
   "cell_type": "code",
   "execution_count": 52,
   "id": "cd278f5a",
   "metadata": {
    "execution": {
     "iopub.execute_input": "2022-05-06T09:43:53.191116Z",
     "iopub.status.busy": "2022-05-06T09:43:53.190803Z",
     "iopub.status.idle": "2022-05-06T09:43:53.194900Z",
     "shell.execute_reply": "2022-05-06T09:43:53.194101Z"
    },
    "papermill": {
     "duration": 0.10341,
     "end_time": "2022-05-06T09:43:53.197164",
     "exception": false,
     "start_time": "2022-05-06T09:43:53.093754",
     "status": "completed"
    },
    "tags": []
   },
   "outputs": [],
   "source": [
    "#item_influence = stat_fit.get_influence()\n",
    "#(c, p) = item_influence.cooks_distance\n",
    "\n",
    "#plt.stem(np.arange(len(X_train)),\n",
    "   #      np.round(c, 3),\n",
    "     #    markerfmt=',')\n",
    "#plt.title(\"Cook's distance\")\n",
    "#plt.xlabel(\"row index\")\n",
    "#plt.ylabel('Cook\\'s distance')\n",
    "#plt.show"
   ]
  },
  {
   "cell_type": "markdown",
   "id": "2bc7391e",
   "metadata": {
    "papermill": {
     "duration": 0.098113,
     "end_time": "2022-05-06T09:43:53.393296",
     "exception": false,
     "start_time": "2022-05-06T09:43:53.295183",
     "status": "completed"
    },
    "tags": []
   },
   "source": [
    "> Using influence method we can plot cooks distance to find which observance has a most influence on output variable"
   ]
  },
  {
   "cell_type": "markdown",
   "id": "3338b6d9",
   "metadata": {
    "papermill": {
     "duration": 0.096086,
     "end_time": "2022-05-06T09:43:53.587746",
     "exception": false,
     "start_time": "2022-05-06T09:43:53.491660",
     "status": "completed"
    },
    "tags": []
   },
   "source": [
    "# > Leverage Values"
   ]
  },
  {
   "cell_type": "code",
   "execution_count": 53,
   "id": "efdc9863",
   "metadata": {
    "execution": {
     "iopub.execute_input": "2022-05-06T09:43:53.782259Z",
     "iopub.status.busy": "2022-05-06T09:43:53.781948Z",
     "iopub.status.idle": "2022-05-06T09:43:53.785705Z",
     "shell.execute_reply": "2022-05-06T09:43:53.784756Z"
    },
    "papermill": {
     "duration": 0.103836,
     "end_time": "2022-05-06T09:43:53.788047",
     "exception": false,
     "start_time": "2022-05-06T09:43:53.684211",
     "status": "completed"
    },
    "tags": []
   },
   "outputs": [],
   "source": [
    "#fig, ax = plt.subplots(figsize=(8,6))\n",
    "#influence_plot(stat_fit, ax=ax)\n",
    "#plt.title(\"Influence plot\")\n",
    "#plt.show()"
   ]
  },
  {
   "cell_type": "code",
   "execution_count": 54,
   "id": "05e559f1",
   "metadata": {
    "execution": {
     "iopub.execute_input": "2022-05-06T09:43:53.986506Z",
     "iopub.status.busy": "2022-05-06T09:43:53.985838Z",
     "iopub.status.idle": "2022-05-06T09:43:54.016394Z",
     "shell.execute_reply": "2022-05-06T09:43:54.015277Z"
    },
    "papermill": {
     "duration": 0.132537,
     "end_time": "2022-05-06T09:43:54.019570",
     "exception": false,
     "start_time": "2022-05-06T09:43:53.887033",
     "status": "completed"
    },
    "tags": []
   },
   "outputs": [
    {
     "name": "stdout",
     "output_type": "stream",
     "text": [
      "-0.0017597291846405128\n",
      "3.578833652882139\n",
      "0.40740679449928335\n"
     ]
    }
   ],
   "source": [
    "pred_y = stat_fit.predict(X_valid)\n",
    "\n",
    "r2 = r2_score(y_valid,pred_y)\n",
    "mse = mean_squared_error(y_valid,pred_y)\n",
    "mae = mean_absolute_error(y_valid,pred_y)\n",
    "\n",
    "print(r2)\n",
    "print(mse)\n",
    "print(mae)"
   ]
  },
  {
   "cell_type": "code",
   "execution_count": 55,
   "id": "37cfd405",
   "metadata": {
    "execution": {
     "iopub.execute_input": "2022-05-06T09:43:54.258469Z",
     "iopub.status.busy": "2022-05-06T09:43:54.258183Z",
     "iopub.status.idle": "2022-05-06T09:43:54.261636Z",
     "shell.execute_reply": "2022-05-06T09:43:54.260993Z"
    },
    "papermill": {
     "duration": 0.10387,
     "end_time": "2022-05-06T09:43:54.263731",
     "exception": false,
     "start_time": "2022-05-06T09:43:54.159861",
     "status": "completed"
    },
    "tags": []
   },
   "outputs": [],
   "source": [
    "#model_sub = stat_fit.predict(testdf)\n",
    "\n",
    "#sub_dff = pd.DataFrame(data= {'ID':np.array(df_test['ID']),'item_cnt_month':model_sub})\n",
    "\n",
    "#sub_dff.to_csv('submission.csv', index=False) "
   ]
  },
  {
   "cell_type": "markdown",
   "id": "f5565bee",
   "metadata": {
    "papermill": {
     "duration": 0.098317,
     "end_time": "2022-05-06T09:43:54.459743",
     "exception": false,
     "start_time": "2022-05-06T09:43:54.361426",
     "status": "completed"
    },
    "tags": []
   },
   "source": [
    "# > Calculating prediction intervals"
   ]
  },
  {
   "cell_type": "code",
   "execution_count": 56,
   "id": "7c1705c8",
   "metadata": {
    "execution": {
     "iopub.execute_input": "2022-05-06T09:43:54.654429Z",
     "iopub.status.busy": "2022-05-06T09:43:54.653779Z",
     "iopub.status.idle": "2022-05-06T09:43:54.715455Z",
     "shell.execute_reply": "2022-05-06T09:43:54.714534Z"
    },
    "papermill": {
     "duration": 0.162288,
     "end_time": "2022-05-06T09:43:54.718799",
     "exception": false,
     "start_time": "2022-05-06T09:43:54.556511",
     "status": "completed"
    },
    "tags": []
   },
   "outputs": [
    {
     "data": {
      "text/html": [
       "<div>\n",
       "<style scoped>\n",
       "    .dataframe tbody tr th:only-of-type {\n",
       "        vertical-align: middle;\n",
       "    }\n",
       "\n",
       "    .dataframe tbody tr th {\n",
       "        vertical-align: top;\n",
       "    }\n",
       "\n",
       "    .dataframe thead th {\n",
       "        text-align: right;\n",
       "    }\n",
       "</style>\n",
       "<table border=\"1\" class=\"dataframe\">\n",
       "  <thead>\n",
       "    <tr style=\"text-align: right;\">\n",
       "      <th></th>\n",
       "      <th>item_id_z</th>\n",
       "      <th>pred_y</th>\n",
       "      <th>Pred_y_low</th>\n",
       "      <th>Pred_y_high</th>\n",
       "    </tr>\n",
       "  </thead>\n",
       "  <tbody>\n",
       "    <tr>\n",
       "      <th>1639019</th>\n",
       "      <td>0.706917</td>\n",
       "      <td>1.181099</td>\n",
       "      <td>-3.336998</td>\n",
       "      <td>5.699195</td>\n",
       "    </tr>\n",
       "    <tr>\n",
       "      <th>1419572</th>\n",
       "      <td>-0.636809</td>\n",
       "      <td>1.182496</td>\n",
       "      <td>-3.335602</td>\n",
       "      <td>5.700594</td>\n",
       "    </tr>\n",
       "    <tr>\n",
       "      <th>180841</th>\n",
       "      <td>-0.197778</td>\n",
       "      <td>1.120497</td>\n",
       "      <td>-3.397602</td>\n",
       "      <td>5.638597</td>\n",
       "    </tr>\n",
       "    <tr>\n",
       "      <th>1331662</th>\n",
       "      <td>-1.152427</td>\n",
       "      <td>1.135047</td>\n",
       "      <td>-3.383052</td>\n",
       "      <td>5.653146</td>\n",
       "    </tr>\n",
       "    <tr>\n",
       "      <th>2212173</th>\n",
       "      <td>-0.023331</td>\n",
       "      <td>1.495115</td>\n",
       "      <td>-3.022982</td>\n",
       "      <td>6.013213</td>\n",
       "    </tr>\n",
       "    <tr>\n",
       "      <th>591709</th>\n",
       "      <td>-0.658714</td>\n",
       "      <td>1.003469</td>\n",
       "      <td>-3.514627</td>\n",
       "      <td>5.521566</td>\n",
       "    </tr>\n",
       "    <tr>\n",
       "      <th>2712400</th>\n",
       "      <td>-0.887212</td>\n",
       "      <td>1.391488</td>\n",
       "      <td>-3.126610</td>\n",
       "      <td>5.909586</td>\n",
       "    </tr>\n",
       "    <tr>\n",
       "      <th>1357003</th>\n",
       "      <td>-1.074896</td>\n",
       "      <td>1.147440</td>\n",
       "      <td>-3.370657</td>\n",
       "      <td>5.665537</td>\n",
       "    </tr>\n",
       "    <tr>\n",
       "      <th>1912851</th>\n",
       "      <td>-0.703468</td>\n",
       "      <td>1.138209</td>\n",
       "      <td>-3.379888</td>\n",
       "      <td>5.656306</td>\n",
       "    </tr>\n",
       "    <tr>\n",
       "      <th>1409186</th>\n",
       "      <td>-0.413669</td>\n",
       "      <td>1.179576</td>\n",
       "      <td>-3.338521</td>\n",
       "      <td>5.697672</td>\n",
       "    </tr>\n",
       "  </tbody>\n",
       "</table>\n",
       "</div>"
      ],
      "text/plain": [
       "         item_id_z    pred_y  Pred_y_low  Pred_y_high\n",
       "1639019   0.706917  1.181099   -3.336998     5.699195\n",
       "1419572  -0.636809  1.182496   -3.335602     5.700594\n",
       "180841   -0.197778  1.120497   -3.397602     5.638597\n",
       "1331662  -1.152427  1.135047   -3.383052     5.653146\n",
       "2212173  -0.023331  1.495115   -3.022982     6.013213\n",
       "591709   -0.658714  1.003469   -3.514627     5.521566\n",
       "2712400  -0.887212  1.391488   -3.126610     5.909586\n",
       "1357003  -1.074896  1.147440   -3.370657     5.665537\n",
       "1912851  -0.703468  1.138209   -3.379888     5.656306\n",
       "1409186  -0.413669  1.179576   -3.338521     5.697672"
      ]
     },
     "execution_count": 56,
     "metadata": {},
     "output_type": "execute_result"
    }
   ],
   "source": [
    "pred_y = stat_fit.predict(X_valid)\n",
    "\n",
    "_, pred_y_low, pred_y_high = wls_prediction_std( stat_fit, \n",
    "                                                X_valid, \n",
    "                                                alpha = 0.1)\n",
    "\n",
    "pred_int_df = pd.DataFrame({'item_id_z': X_valid['item_id'],\n",
    "                            'pred_y': np.array(pred_y),\n",
    "                            'Pred_y_low': pred_y_low,\n",
    "                             'Pred_y_high': pred_y_high\n",
    "                           })\n",
    "\n",
    "pred_int_df.head(10)"
   ]
  },
  {
   "cell_type": "markdown",
   "id": "0ca97b22",
   "metadata": {
    "papermill": {
     "duration": 0.096926,
     "end_time": "2022-05-06T09:43:54.949423",
     "exception": false,
     "start_time": "2022-05-06T09:43:54.852497",
     "status": "completed"
    },
    "tags": []
   },
   "source": [
    "> Using statsmodels wls_prediction_std method we have calculated prediction interval for each predicted  value of y."
   ]
  },
  {
   "cell_type": "markdown",
   "id": "0121eec5",
   "metadata": {
    "papermill": {
     "duration": 0.097345,
     "end_time": "2022-05-06T09:43:55.145757",
     "exception": false,
     "start_time": "2022-05-06T09:43:55.048412",
     "status": "completed"
    },
    "tags": []
   },
   "source": [
    "# Model 3"
   ]
  },
  {
   "cell_type": "code",
   "execution_count": 57,
   "id": "776b2dd0",
   "metadata": {
    "execution": {
     "iopub.execute_input": "2022-05-06T09:43:55.341780Z",
     "iopub.status.busy": "2022-05-06T09:43:55.341467Z",
     "iopub.status.idle": "2022-05-06T09:44:14.365361Z",
     "shell.execute_reply": "2022-05-06T09:44:14.364603Z"
    },
    "papermill": {
     "duration": 19.124855,
     "end_time": "2022-05-06T09:44:14.367575",
     "exception": false,
     "start_time": "2022-05-06T09:43:55.242720",
     "status": "completed"
    },
    "tags": []
   },
   "outputs": [
    {
     "name": "stdout",
     "output_type": "stream",
     "text": [
      "3.56014920300623\n"
     ]
    }
   ],
   "source": [
    "model3 = XGBRegressor(n_estimators=50,\n",
    "                      max_depth=3,\n",
    "                      learning_rate = 0.01)\n",
    "\n",
    "model3.fit(X_train, y_train)\n",
    "\n",
    "prey = model3.predict(X_valid)\n",
    "\n",
    "sq_error = mean_squared_error(y_valid, prey)\n",
    "\n",
    "print(sq_error)"
   ]
  },
  {
   "cell_type": "code",
   "execution_count": 58,
   "id": "5fb33392",
   "metadata": {
    "execution": {
     "iopub.execute_input": "2022-05-06T09:44:14.566470Z",
     "iopub.status.busy": "2022-05-06T09:44:14.566199Z",
     "iopub.status.idle": "2022-05-06T09:44:15.179987Z",
     "shell.execute_reply": "2022-05-06T09:44:15.178982Z"
    },
    "papermill": {
     "duration": 0.715346,
     "end_time": "2022-05-06T09:44:15.182679",
     "exception": false,
     "start_time": "2022-05-06T09:44:14.467333",
     "status": "completed"
    },
    "tags": []
   },
   "outputs": [],
   "source": [
    "model3_sub = model3.predict(testdf)\n",
    "\n",
    "sub_dff2 = pd.DataFrame(data= {'ID':np.array(df_test['ID']),'item_cnt_month':model3_sub})\n",
    "\n",
    "sub_dff2.to_csv('submission.csv', index=False) "
   ]
  },
  {
   "cell_type": "markdown",
   "id": "b7b43821",
   "metadata": {
    "papermill": {
     "duration": 0.097092,
     "end_time": "2022-05-06T09:44:15.380212",
     "exception": false,
     "start_time": "2022-05-06T09:44:15.283120",
     "status": "completed"
    },
    "tags": []
   },
   "source": [
    "**> If you liked this notebook, Do upvote and share your feedback on the same**"
   ]
  }
 ],
 "metadata": {
  "kernelspec": {
   "display_name": "Python 3",
   "language": "python",
   "name": "python3"
  },
  "language_info": {
   "codemirror_mode": {
    "name": "ipython",
    "version": 3
   },
   "file_extension": ".py",
   "mimetype": "text/x-python",
   "name": "python",
   "nbconvert_exporter": "python",
   "pygments_lexer": "ipython3",
   "version": "3.7.12"
  },
  "papermill": {
   "default_parameters": {},
   "duration": 67.858284,
   "end_time": "2022-05-06T09:44:16.301791",
   "environment_variables": {},
   "exception": null,
   "input_path": "__notebook__.ipynb",
   "output_path": "__notebook__.ipynb",
   "parameters": {},
   "start_time": "2022-05-06T09:43:08.443507",
   "version": "2.3.4"
  }
 },
 "nbformat": 4,
 "nbformat_minor": 5
}
